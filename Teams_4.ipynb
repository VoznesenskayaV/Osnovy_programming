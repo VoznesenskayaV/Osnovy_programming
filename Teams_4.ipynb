{
  "nbformat": 4,
  "nbformat_minor": 0,
  "metadata": {
    "colab": {
      "provenance": [],
      "authorship_tag": "ABX9TyO80cMsf7C9KtD952Ihk8EY",
      "include_colab_link": true
    },
    "kernelspec": {
      "name": "python3",
      "display_name": "Python 3"
    },
    "language_info": {
      "name": "python"
    }
  },
  "cells": [
    {
      "cell_type": "markdown",
      "metadata": {
        "id": "view-in-github",
        "colab_type": "text"
      },
      "source": [
        "<a href=\"https://colab.research.google.com/github/VoznesenskayaV/Osnovy_programming/blob/main/Teams_4.ipynb\" target=\"_parent\"><img src=\"https://colab.research.google.com/assets/colab-badge.svg\" alt=\"Open In Colab\"/></a>"
      ]
    },
    {
      "cell_type": "markdown",
      "source": [
        "В данной реализации класса Queue используется список items для хранения элементов очереди. Метод enqueue добавляет элемент в конец списка. Метод dequeue извлекает элемент из начала списка (с индексом 0) и возвращает его. Метод is_empty проверяет, пуста ли очередь, путем проверки длины списка элементов. Метод size возвращает количество элементов в списке.\n",
        "\n",
        "В приведенном примере создается объект queue класса Queue, добавляются элементы в очередь, выводится количество элементов в очереди, извлекаются элементы из очереди и выводятся, а затем выводится количество элементов в очереди после извлечения."
      ],
      "metadata": {
        "id": "W-qnxiMQOe9R"
      }
    },
    {
      "cell_type": "code",
      "execution_count": 1,
      "metadata": {
        "colab": {
          "base_uri": "https://localhost:8080/"
        },
        "id": "BgupaSgSOeV7",
        "outputId": "34fd9703-2481-42d9-f36a-c1fd6eeef9ea"
      },
      "outputs": [
        {
          "output_type": "stream",
          "name": "stdout",
          "text": [
            "Size: 3\n",
            "Dequeued item: 1\n",
            "Dequeued item: 2\n",
            "Dequeued item: 3\n",
            "Size: 0\n"
          ]
        }
      ],
      "source": [
        "class Queue:\n",
        "    def __init__(self):\n",
        "        # Создаем пустой список для хранения элементов очереди\n",
        "        self.items = []\n",
        "\n",
        "    def enqueue(self, item):\n",
        "        # Добавляем элемент в конец списка\n",
        "        self.items.append(item)\n",
        "\n",
        "    def dequeue(self):\n",
        "        # Проверяем, пуста ли очередь\n",
        "        if self.is_empty():\n",
        "            # Если очередь пуста, генерируем исключение\n",
        "            raise Exception(\"Queue is empty\")\n",
        "        \n",
        "        # Извлекаем элемент из начала списка (с индексом 0)\n",
        "        return self.items.pop(0)\n",
        "\n",
        "    def is_empty(self):\n",
        "        # Проверяем, пуст ли список элементов очереди\n",
        "        return len(self.items) == 0\n",
        "\n",
        "    def size(self):\n",
        "        # Возвращаем количество элементов в списке\n",
        "        return len(self.items)\n",
        "\n",
        "\n",
        "# Пример использования\n",
        "queue = Queue()\n",
        "\n",
        "# Добавляем элементы в очередь\n",
        "queue.enqueue(1)\n",
        "queue.enqueue(2)\n",
        "queue.enqueue(3)\n",
        "\n",
        "# Выводим количество элементов в очереди\n",
        "print(\"Size:\", queue.size())  # Size: 3\n",
        "\n",
        "# Извлекаем элементы из очереди и выводим их\n",
        "while not queue.is_empty():\n",
        "    item = queue.dequeue()\n",
        "    print(\"Dequeued item:\", item)\n",
        "\n",
        "# Выводим количество элементов в очереди после извлечения\n",
        "print(\"Size:\", queue.size())  # Size: 0\n"
      ]
    }
  ]
}