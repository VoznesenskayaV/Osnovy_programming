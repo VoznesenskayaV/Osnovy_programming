{
  "nbformat": 4,
  "nbformat_minor": 0,
  "metadata": {
    "colab": {
      "provenance": [],
      "collapsed_sections": [],
      "authorship_tag": "ABX9TyPb6xWloR/fNvxWYHI4bbRj",
      "include_colab_link": true
    },
    "kernelspec": {
      "name": "python3",
      "display_name": "Python 3"
    },
    "language_info": {
      "name": "python"
    }
  },
  "cells": [
    {
      "cell_type": "markdown",
      "metadata": {
        "id": "view-in-github",
        "colab_type": "text"
      },
      "source": [
        "<a href=\"https://colab.research.google.com/github/VoznesenskayaV/Osnovy_programming/blob/main/3_2_4.ipynb\" target=\"_parent\"><img src=\"https://colab.research.google.com/assets/colab-badge.svg\" alt=\"Open In Colab\"/></a>"
      ]
    },
    {
      "cell_type": "code",
      "execution_count": null,
      "metadata": {
        "id": "MIRUS9FVO8Hv"
      },
      "outputs": [],
      "source": []
    },
    {
      "cell_type": "code",
      "source": [
        "\n",
        "\n",
        "# Двузначное число\n",
        "num2 = int(input(\"num2=\"))\n",
        "# Трехзначное число\n",
        "num3 = int(input(\"num3=\"))\n",
        "\n",
        "# 1-я цифра числа 'num2'\n",
        "num2_1=(num2//10)\n",
        "# 2-я цифра числа 'num2'\n",
        "num2_2=(num2%10)\n",
        "\n",
        "# Сумма цифр числа 'num2'\n",
        "num2_s=(num2_1+num2_2)\n",
        "# Произведение цифр числа 'num2'\n",
        "num2_p=(num2_1*num2_2)\n",
        "\n",
        "# 1-я цифра числа 'num3'\n",
        "num3_1=(num3//100)\n",
        "# 2-я цифра числа 'num3'\n",
        "num3_2=((num3%100)//10)\n",
        "# 3-я цифра числа 'num3'\n",
        "num3_3=(num3%10)\n",
        "\n",
        "# Сумма цифр числа 'num3'\n",
        "num3_s=(num3_1+num3_2+num3_3)\n",
        "# Произведение цифр числа 'num3'\n",
        "num3_p=(num3_1*num3_2*num3_3)\n",
        "\n",
        "\n",
        "print(num2_s)\n",
        "print(num2_p)\n",
        "print(num3_s)\n",
        "print(num3_p)\n",
        "\n",
        "\n",
        "# --------------\n",
        "# Пример вывода:\n",
        "#\n",
        "# Двузначное число: 45\n",
        "# Трехзначное число: 456\n",
        "# Сумма и произведение цифр двузначного числа: 9 20\n",
        "# Сумма и произведение цифр трехзначного числа: 15 120\n",
        "\n"
      ],
      "metadata": {
        "id": "uQ_LDcrIQURJ",
        "colab": {
          "base_uri": "https://localhost:8080/"
        },
        "outputId": "dfab1a8b-3d7b-4425-d770-2ca4aa736aac"
      },
      "execution_count": 21,
      "outputs": [
        {
          "output_type": "stream",
          "name": "stdout",
          "text": [
            "num2=45\n",
            "num3=456\n",
            "9\n",
            "20\n",
            "15\n",
            "120\n"
          ]
        }
      ]
    },
    {
      "cell_type": "markdown",
      "source": [
        "# Программирование на языке высокого уровня (Python).\n",
        "# https://www.yuripetrov.ru/edu/python\n",
        "# Задание task_03_02_04.\n",
        "#\n",
        "# Выполнил: Вознесенская В.Е.\n",
        "# Группа: АДЭУ-221\n",
        "# E-mail: veroshe4k@gmail.com\n"
      ],
      "metadata": {
        "id": "xBfLVQEjQach"
      }
    }
  ]
}