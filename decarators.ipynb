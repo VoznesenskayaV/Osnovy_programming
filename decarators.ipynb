{
  "nbformat": 4,
  "nbformat_minor": 0,
  "metadata": {
    "colab": {
      "provenance": [],
      "authorship_tag": "ABX9TyMAdlnlTNrPzUHuQ3VdI8wb",
      "include_colab_link": true
    },
    "kernelspec": {
      "name": "python3",
      "display_name": "Python 3"
    },
    "language_info": {
      "name": "python"
    }
  },
  "cells": [
    {
      "cell_type": "markdown",
      "metadata": {
        "id": "view-in-github",
        "colab_type": "text"
      },
      "source": [
        "<a href=\"https://colab.research.google.com/github/VoznesenskayaV/Osnovy_programming/blob/main/decarators.ipynb\" target=\"_parent\"><img src=\"https://colab.research.google.com/assets/colab-badge.svg\" alt=\"Open In Colab\"/></a>"
      ]
    },
    {
      "cell_type": "markdown",
      "source": [
        "# Задача 1"
      ],
      "metadata": {
        "id": "0RYJdGmSkxk1"
      }
    },
    {
      "cell_type": "code",
      "execution_count": 18,
      "metadata": {
        "id": "K7rXeDECkPW9",
        "colab": {
          "base_uri": "https://localhost:8080/"
        },
        "outputId": "92e6d6dc-7d8d-4072-adda-7d699953e163"
      },
      "outputs": [
        {
          "output_type": "stream",
          "name": "stdout",
          "text": [
            "15\n",
            "Время выполнения: 0.001956462860107422 секунд\n",
            "Объем памяти: 244 байт\n"
          ]
        }
      ],
      "source": [
        "import time\n",
        "import sys\n",
        "start_time = time.time()\n",
        "def recursive_sum(*args):\n",
        "  if len(args) == 0:\n",
        "    return 0\n",
        "  elif len(args) == 1:\n",
        "    return args[0]\n",
        "  else:\n",
        "    return args[0] + recursive_sum(*args[1:])\n",
        "\n",
        "result = recursive_sum(1, 2, 3, 4, 5)\n",
        "print(result)\n",
        "\n",
        "end_time = time.time()\n",
        "execution_time = end_time - start_time\n",
        "print(f\"Время выполнения: {execution_time} секунд\")\n",
        "memory_usage = sys.getsizeof(recursive_sum) + sys.getsizeof(start_time) + sys.getsizeof(result) + sys.getsizeof(end_time) + sys.getsizeof(execution_time)\n",
        "print(f\"Объем памяти: {memory_usage} байт\")"
      ]
    },
    {
      "cell_type": "markdown",
      "source": [
        "# Задача 2"
      ],
      "metadata": {
        "id": "xYaZcumOk1S-"
      }
    },
    {
      "cell_type": "code",
      "source": [
        "import time\n",
        "import sys\n",
        "start_time = time.time()\n",
        "def answer(func):\n",
        "  def wrapper(*args, **kwargs):\n",
        "    res = func(*args, **kwargs)\n",
        "    print(f\"Результат функции: {res}\")\n",
        "  return wrapper\n",
        "\n",
        "#Пример использования\n",
        "@answer\n",
        "def function(*args):\n",
        "  return sum(args)\n",
        "\n",
        "function(3, 5, 9)\n",
        "\n",
        "end_time = time.time()\n",
        "execution_time = end_time - start_time\n",
        "print(f\"Время выполнения: {execution_time} секунд\")\n",
        "memory_usage = sys.getsizeof(answer) + sys.getsizeof(function) + sys.getsizeof(start_time) + sys.getsizeof(end_time) + sys.getsizeof(execution_time)\n",
        "print(f\"Объем памяти: {memory_usage} байт\")"
      ],
      "metadata": {
        "colab": {
          "base_uri": "https://localhost:8080/"
        },
        "id": "nzkAVYWVk3F0",
        "outputId": "9113f214-ef84-410c-cac6-1982059c8e9d"
      },
      "execution_count": 19,
      "outputs": [
        {
          "output_type": "stream",
          "name": "stdout",
          "text": [
            "Результат функции: 17\n",
            "Время выполнения: 0.002009153366088867 секунд\n",
            "Объем памяти: 360 байт\n"
          ]
        }
      ]
    },
    {
      "cell_type": "markdown",
      "source": [
        "# Задача 3"
      ],
      "metadata": {
        "id": "izw2IvXBnPgu"
      }
    },
    {
      "cell_type": "code",
      "source": [
        "import time\n",
        "import sys\n",
        "start_time = time.time()\n",
        "def text_decor(func):\n",
        "  def wrapper(*args, **kwargs):\n",
        "    print(\"Hello\")\n",
        "    func(*args, **kwargs)\n",
        "    print(\"Goodbye!\")\n",
        "  return wrapper\n",
        "\n",
        "#Пример использования\n",
        "@text_decor\n",
        "def name(n):\n",
        "  print(n)\n",
        "\n",
        "name(\"Veronika\")\n",
        "\n",
        "end_time = time.time()\n",
        "execution_time = end_time - start_time\n",
        "print(f\"Время выполнения: {execution_time} секунд\")\n",
        "memory_usage = sys.getsizeof(text_decor) + sys.getsizeof(name) + sys.getsizeof(start_time) + sys.getsizeof(end_time) + sys.getsizeof(execution_time)\n",
        "print(f\"Объем памяти: {memory_usage} байт\")"
      ],
      "metadata": {
        "colab": {
          "base_uri": "https://localhost:8080/"
        },
        "id": "DMzJzlGVnR2I",
        "outputId": "e4527c54-ef08-493d-9187-96329075efff"
      },
      "execution_count": 20,
      "outputs": [
        {
          "output_type": "stream",
          "name": "stdout",
          "text": [
            "Hello\n",
            "Veronika\n",
            "Goodbye!\n",
            "Время выполнения: 0.0017578601837158203 секунд\n",
            "Объем памяти: 360 байт\n"
          ]
        }
      ]
    },
    {
      "cell_type": "markdown",
      "source": [
        "# Задача 4"
      ],
      "metadata": {
        "id": "E38h9V0Vq9dz"
      }
    },
    {
      "cell_type": "code",
      "source": [
        "import time\n",
        "import sys\n",
        "start_time = time.time()\n",
        "def repeater(func):\n",
        "  def wrapper(*args, **kwargs):\n",
        "    func(*args, **kwargs)\n",
        "    func(*args, **kwargs)\n",
        "  return wrapper\n",
        "\n",
        "#Пример использования\n",
        "@repeater\n",
        "def function(*args):\n",
        "  print(sum(args))\n",
        "\n",
        "function(5, 4, 1)\n",
        "\n",
        "end_time = time.time()\n",
        "execution_time = end_time - start_time\n",
        "print(f\"Время выполнения: {execution_time} секунд\")\n",
        "memory_usage = sys.getsizeof(repeater) + sys.getsizeof(function) + sys.getsizeof(start_time) + sys.getsizeof(end_time) + sys.getsizeof(execution_time)\n",
        "print(f\"Объем памяти: {memory_usage} байт\")"
      ],
      "metadata": {
        "colab": {
          "base_uri": "https://localhost:8080/"
        },
        "id": "5qe33mmyq_OT",
        "outputId": "78d5d400-bc2b-4903-dd96-1d952cc5e22f"
      },
      "execution_count": 21,
      "outputs": [
        {
          "output_type": "stream",
          "name": "stdout",
          "text": [
            "10\n",
            "10\n",
            "Время выполнения: 0.002686023712158203 секунд\n",
            "Объем памяти: 360 байт\n"
          ]
        }
      ]
    },
    {
      "cell_type": "markdown",
      "source": [
        "# Задача 5"
      ],
      "metadata": {
        "id": "kvpIqmhhr9-q"
      }
    },
    {
      "cell_type": "code",
      "source": [
        "import time\n",
        "import sys\n",
        "start_time = time.time()\n",
        "def double_it(func):\n",
        "  def wrapper(*args, **kwargs):\n",
        "    result = func(*args, **kwargs)\n",
        "    if isinstance(result, (int, float)):\n",
        "      return result * 2\n",
        "    else:\n",
        "      return result\n",
        "  return wrapper\n",
        "\n",
        "#Пример использования\n",
        "@double_it\n",
        "def function(x):\n",
        "  return x\n",
        "\n",
        "print(function(5))\n",
        "\n",
        "end_time = time.time()\n",
        "execution_time = end_time - start_time\n",
        "print(f\"Время выполнения: {execution_time} секунд\")\n",
        "memory_usage = sys.getsizeof(double_it) + sys.getsizeof(function) + sys.getsizeof(start_time) + sys.getsizeof(end_time) + sys.getsizeof(execution_time)\n",
        "print(f\"Объем памяти: {memory_usage} байт\")"
      ],
      "metadata": {
        "colab": {
          "base_uri": "https://localhost:8080/"
        },
        "id": "KqpvcLemsAhR",
        "outputId": "74a279f7-0244-4349-cf0f-b49b3d926f6c"
      },
      "execution_count": 22,
      "outputs": [
        {
          "output_type": "stream",
          "name": "stdout",
          "text": [
            "10\n",
            "Время выполнения: 0.0014986991882324219 секунд\n",
            "Объем памяти: 360 байт\n"
          ]
        }
      ]
    },
    {
      "cell_type": "markdown",
      "source": [
        "# Задача 6"
      ],
      "metadata": {
        "id": "rpli7RMbeVB2"
      }
    },
    {
      "cell_type": "code",
      "source": [
        "import time\n",
        "import sys\n",
        "start_time = time.time()\n",
        "def add_args(func):\n",
        "  def wrapper(*args):\n",
        "    res = func(*args)\n",
        "    res = list(args)\n",
        "    res.insert(0, \"begin\")\n",
        "    res.append(\"end\")\n",
        "\n",
        "    wrapper.__name__ = func.__name__\n",
        "    wrapper.__doc__ = func.__doc__\n",
        "    \n",
        "    return res\n",
        "  return wrapper\n",
        "\n",
        "#Пример использования\n",
        "@add_args\n",
        "def function(*args):\n",
        "  return args\n",
        "\n",
        "print(function(\"hello\", \"world\"))\n",
        "\n",
        "end_time = time.time()\n",
        "execution_time = end_time - start_time\n",
        "print(f\"Время выполнения: {execution_time} секунд\")\n",
        "memory_usage = sys.getsizeof(add_args) + sys.getsizeof(function) + sys.getsizeof(start_time) + sys.getsizeof(end_time) + sys.getsizeof(execution_time)\n",
        "print(f\"Объем памяти: {memory_usage} байт\")"
      ],
      "metadata": {
        "colab": {
          "base_uri": "https://localhost:8080/"
        },
        "id": "yNsbE1f3eXBF",
        "outputId": "e8e6abed-4487-422c-a535-03664709e81e"
      },
      "execution_count": 23,
      "outputs": [
        {
          "output_type": "stream",
          "name": "stdout",
          "text": [
            "['begin', 'hello', 'world', 'end']\n",
            "Время выполнения: 0.0014219284057617188 секунд\n",
            "Объем памяти: 360 байт\n"
          ]
        }
      ]
    },
    {
      "cell_type": "markdown",
      "source": [
        "# Задача 7"
      ],
      "metadata": {
        "id": "ZxKCwZ_2Dz5H"
      }
    },
    {
      "cell_type": "code",
      "source": [
        "import time\n",
        "import sys\n",
        "start_time = time.time()\n",
        "def validate_args(func):\n",
        "  def wrapper(*args):\n",
        "    result = func(*args)\n",
        "    result = list(args)\n",
        "    if len(result) < 2:\n",
        "      print(\"Not enough arguments\")\n",
        "    if len(result) > 2:\n",
        "      print(\"Too many arguments\")\n",
        "    if len(result) == 2:\n",
        "      x = result[0]\n",
        "      y = result[1]\n",
        "      if isinstance(x, int) and isinstance(y, int):\n",
        "        return func(*args)\n",
        "      else:\n",
        "        print(\"Wrong types\")\n",
        "    wrapper.__name__ = func.__name__\n",
        "    wrapper.__doc__ = func.__doc__\n",
        "  return wrapper\n",
        "\n",
        "#Пример использования:\n",
        "@validate_args\n",
        "def function(*args):\n",
        "  return args\n",
        "\n",
        "print(function(5, 7))\n",
        "\n",
        "end_time = time.time()\n",
        "execution_time = end_time - start_time\n",
        "print(f\"Время выполнения: {execution_time} секунд\")\n",
        "memory_usage = sys.getsizeof(validate_args) + sys.getsizeof(function) + sys.getsizeof(start_time) + sys.getsizeof(end_time) + sys.getsizeof(execution_time)\n",
        "print(f\"Объем памяти: {memory_usage} байт\")"
      ],
      "metadata": {
        "colab": {
          "base_uri": "https://localhost:8080/"
        },
        "id": "6RT2xTZADvPF",
        "outputId": "e7f5fdc6-b8b1-47a3-f432-ad3c4ef645cc"
      },
      "execution_count": 26,
      "outputs": [
        {
          "output_type": "stream",
          "name": "stdout",
          "text": [
            "(5, 7)\n",
            "Время выполнения: 0.0015306472778320312 секунд\n",
            "Объем памяти: 360 байт\n"
          ]
        }
      ]
    }
  ]
}