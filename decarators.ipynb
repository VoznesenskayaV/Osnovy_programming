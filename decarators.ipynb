{
  "nbformat": 4,
  "nbformat_minor": 0,
  "metadata": {
    "colab": {
      "provenance": [],
      "authorship_tag": "ABX9TyOemhxIQxA64XJ0w0sKtgEo",
      "include_colab_link": true
    },
    "kernelspec": {
      "name": "python3",
      "display_name": "Python 3"
    },
    "language_info": {
      "name": "python"
    }
  },
  "cells": [
    {
      "cell_type": "markdown",
      "metadata": {
        "id": "view-in-github",
        "colab_type": "text"
      },
      "source": [
        "<a href=\"https://colab.research.google.com/github/VoznesenskayaV/Osnovy_programming/blob/main/decarators.ipynb\" target=\"_parent\"><img src=\"https://colab.research.google.com/assets/colab-badge.svg\" alt=\"Open In Colab\"/></a>"
      ]
    },
    {
      "cell_type": "markdown",
      "source": [
        "# Задача 1"
      ],
      "metadata": {
        "id": "0RYJdGmSkxk1"
      }
    },
    {
      "cell_type": "code",
      "execution_count": null,
      "metadata": {
        "id": "K7rXeDECkPW9",
        "colab": {
          "base_uri": "https://localhost:8080/"
        },
        "outputId": "4615a418-7574-41ca-ec3b-3a362706ac02"
      },
      "outputs": [
        {
          "output_type": "stream",
          "name": "stdout",
          "text": [
            "15\n"
          ]
        }
      ],
      "source": [
        "def recursive_sum(*args):\n",
        "  if len(args) == 0:\n",
        "    return 0\n",
        "  elif len(args) == 1:\n",
        "    return args[0]\n",
        "  else:\n",
        "    return args[0] + recursive_sum(*args[1:])\n",
        "\n",
        "result = recursive_sum(1, 2, 3, 4, 5)\n",
        "print(result)"
      ]
    },
    {
      "cell_type": "markdown",
      "source": [
        "# Задача 2"
      ],
      "metadata": {
        "id": "xYaZcumOk1S-"
      }
    },
    {
      "cell_type": "code",
      "source": [
        "def answer(func):\n",
        "  def wrapper(*args, **kwargs):\n",
        "    res = func(*args, **kwargs)\n",
        "    print(f\"Результат функции: {res}\")\n",
        "  return wrapper\n",
        "\n",
        "#Пример использования\n",
        "@answer\n",
        "def function(*args):\n",
        "  return sum(args)\n",
        "\n",
        "function(3, 5, 9)"
      ],
      "metadata": {
        "colab": {
          "base_uri": "https://localhost:8080/"
        },
        "id": "nzkAVYWVk3F0",
        "outputId": "1cdff91d-bd3f-4dc5-dbed-b62d9d3d7530"
      },
      "execution_count": null,
      "outputs": [
        {
          "output_type": "stream",
          "name": "stdout",
          "text": [
            "Результат функции: 17\n"
          ]
        }
      ]
    },
    {
      "cell_type": "markdown",
      "source": [
        "# Задача 3"
      ],
      "metadata": {
        "id": "izw2IvXBnPgu"
      }
    },
    {
      "cell_type": "code",
      "source": [
        "def text_decor(func):\n",
        "  def wrapper(*args, **kwargs):\n",
        "    print(\"Hello\")\n",
        "    func(*args, **kwargs)\n",
        "    print(\"Goodbye!\")\n",
        "  return wrapper\n",
        "\n",
        "#Пример использования\n",
        "@text_decor\n",
        "def name(n):\n",
        "  print(n)\n",
        "\n",
        "name(\"Veronika\")"
      ],
      "metadata": {
        "colab": {
          "base_uri": "https://localhost:8080/"
        },
        "id": "DMzJzlGVnR2I",
        "outputId": "21f50951-ee5b-48b7-f710-25109ff8f374"
      },
      "execution_count": null,
      "outputs": [
        {
          "output_type": "stream",
          "name": "stdout",
          "text": [
            "Hello\n",
            "Veronika\n",
            "Goodbye!\n"
          ]
        }
      ]
    },
    {
      "cell_type": "markdown",
      "source": [
        "# Задача 4"
      ],
      "metadata": {
        "id": "E38h9V0Vq9dz"
      }
    },
    {
      "cell_type": "code",
      "source": [
        "def repeater(func):\n",
        "  def wrapper(*args, **kwargs):\n",
        "    func(*args, **kwargs)\n",
        "    func(*args, **kwargs)\n",
        "  return wrapper\n",
        "\n",
        "#Пример использования\n",
        "@repeater\n",
        "def function(*args):\n",
        "  print(sum(args))\n",
        "\n",
        "function(5, 4, 1)"
      ],
      "metadata": {
        "colab": {
          "base_uri": "https://localhost:8080/"
        },
        "id": "5qe33mmyq_OT",
        "outputId": "c01a5725-54f2-4390-f06c-dae6ba260218"
      },
      "execution_count": null,
      "outputs": [
        {
          "output_type": "stream",
          "name": "stdout",
          "text": [
            "10\n",
            "10\n"
          ]
        }
      ]
    },
    {
      "cell_type": "markdown",
      "source": [
        "# Задача 5"
      ],
      "metadata": {
        "id": "kvpIqmhhr9-q"
      }
    },
    {
      "cell_type": "code",
      "source": [
        "def double_it(func):\n",
        "  def wrapper(*args, **kwargs):\n",
        "    result = func(*args, **kwargs)\n",
        "    if isinstance(result, (int, float)):\n",
        "      return result * 2\n",
        "    else:\n",
        "      return result\n",
        "  return wrapper\n",
        "\n",
        "#Пример использования\n",
        "@double_it\n",
        "def function(x):\n",
        "  return x\n",
        "\n",
        "function(5)"
      ],
      "metadata": {
        "colab": {
          "base_uri": "https://localhost:8080/"
        },
        "id": "KqpvcLemsAhR",
        "outputId": "59708147-b544-4edc-f058-c6d1a9b71896"
      },
      "execution_count": null,
      "outputs": [
        {
          "output_type": "execute_result",
          "data": {
            "text/plain": [
              "10"
            ]
          },
          "metadata": {},
          "execution_count": 44
        }
      ]
    },
    {
      "cell_type": "markdown",
      "source": [
        "# Задача 6"
      ],
      "metadata": {
        "id": "rpli7RMbeVB2"
      }
    },
    {
      "cell_type": "code",
      "source": [
        "def add_args(func):\n",
        "  def wrapper(*args):\n",
        "    res = func(*args)\n",
        "    res = list(args)\n",
        "    res.insert(0, \"begin\")\n",
        "    res.append(\"end\")\n",
        "\n",
        "    wrapper.__name__ = func.__name__\n",
        "    wrapper.__doc__ = func.__doc__\n",
        "    \n",
        "    return res\n",
        "  return wrapper\n",
        "\n",
        "#Пример использования\n",
        "@add_args\n",
        "def function(*args):\n",
        "  return args\n",
        "\n",
        "print(function(\"hello\", \"world\"))"
      ],
      "metadata": {
        "colab": {
          "base_uri": "https://localhost:8080/"
        },
        "id": "yNsbE1f3eXBF",
        "outputId": "c92cb2c2-ee59-44f0-f6ce-514f70c6ed9b"
      },
      "execution_count": null,
      "outputs": [
        {
          "output_type": "stream",
          "name": "stdout",
          "text": [
            "['begin', 'hello', 'world', 'end']\n"
          ]
        }
      ]
    },
    {
      "cell_type": "markdown",
      "source": [
        "# Задача 7"
      ],
      "metadata": {
        "id": "ZxKCwZ_2Dz5H"
      }
    },
    {
      "cell_type": "code",
      "source": [
        "def validate_args(func):\n",
        "  def wrapper(*args):\n",
        "    result = func(*args)\n",
        "    result = list(args)\n",
        "    if len(result) < 2:\n",
        "      print(\"Not enough arguments\")\n",
        "    if len(result) > 2:\n",
        "      print(\"Too many arguments\")\n",
        "    if len(result) == 2:\n",
        "      x = result[0]\n",
        "      y = result[1]\n",
        "      if isinstance(x, int) and isinstance(y, int):\n",
        "        return func(*args)\n",
        "      else:\n",
        "        print(\"Wrong types\")\n",
        "    wrapper.__name__ = func.__name__\n",
        "    wrapper.__doc__ = func.__doc__\n",
        "  return wrapper\n",
        "\n",
        "#Пример использования:\n",
        "@validate_args\n",
        "def function(*args):\n",
        "  return args\n",
        "\n",
        "function(5, 7)   "
      ],
      "metadata": {
        "colab": {
          "base_uri": "https://localhost:8080/"
        },
        "id": "6RT2xTZADvPF",
        "outputId": "f301d148-ca49-4c05-ede5-fce815f11151"
      },
      "execution_count": null,
      "outputs": [
        {
          "output_type": "execute_result",
          "data": {
            "text/plain": [
              "(5, 7)"
            ]
          },
          "metadata": {},
          "execution_count": 67
        }
      ]
    }
  ]
}