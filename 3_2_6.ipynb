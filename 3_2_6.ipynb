{
  "nbformat": 4,
  "nbformat_minor": 0,
  "metadata": {
    "colab": {
      "provenance": [],
      "authorship_tag": "ABX9TyM7ZFX1JZiq7Hp95HMRDf9X",
      "include_colab_link": true
    },
    "kernelspec": {
      "name": "python3",
      "display_name": "Python 3"
    },
    "language_info": {
      "name": "python"
    }
  },
  "cells": [
    {
      "cell_type": "markdown",
      "metadata": {
        "id": "view-in-github",
        "colab_type": "text"
      },
      "source": [
        "<a href=\"https://colab.research.google.com/github/VoznesenskayaV/Osnovy_programming/blob/main/3_2_6.ipynb\" target=\"_parent\"><img src=\"https://colab.research.google.com/assets/colab-badge.svg\" alt=\"Open In Colab\"/></a>"
      ]
    },
    {
      "cell_type": "code",
      "execution_count": null,
      "metadata": {
        "id": "k6kuiG-aKM_O"
      },
      "outputs": [],
      "source": []
    },
    {
      "cell_type": "code",
      "source": [
        "\n",
        "\n",
        "\n",
        "a = int(input())\n",
        "b = int(input())\n",
        "m = int(input())\n",
        "n = int(input())\n",
        "\n",
        "x = -b//a\n",
        "\n",
        "is_ok = bool((x>=m) and (x<=n))\n",
        "\n",
        "print(\"Попадает:\", is_ok)\n",
        "\n",
        "\n",
        "# --------------\n",
        "# Пример вывода:\n",
        "#\n",
        "# Введите a = 1\n",
        "# Введите b = 2\n",
        "# Введите m = -5\n",
        "# Введите n = 5\n",
        "# Попадает: True\n",
        "\n"
      ],
      "metadata": {
        "colab": {
          "base_uri": "https://localhost:8080/"
        },
        "id": "d_54WtKgKQbn",
        "outputId": "fcfd8735-f04f-4d8f-d2ea-256178e0043b"
      },
      "execution_count": 1,
      "outputs": [
        {
          "output_type": "stream",
          "name": "stdout",
          "text": [
            "1\n",
            "2\n",
            "-5\n",
            "5\n",
            "Попадает: True\n"
          ]
        }
      ]
    },
    {
      "cell_type": "markdown",
      "source": [
        "# Программирование на языке высокого уровня (Python).\n",
        "# https://www.yuripetrov.ru/edu/python\n",
        "# Задание task_03_02_06.\n",
        "#\n",
        "# Выполнил: Фамилия И.О.\n",
        "# Группа: !!!\n",
        "# E-mail: !!!"
      ],
      "metadata": {
        "id": "TuH8cGmFKTqI"
      }
    }
  ]
}