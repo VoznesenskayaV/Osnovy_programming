{
  "nbformat": 4,
  "nbformat_minor": 0,
  "metadata": {
    "colab": {
      "provenance": [],
      "collapsed_sections": [],
      "authorship_tag": "ABX9TyOUC3aB8k3KpPNJMTvv7Uw8",
      "include_colab_link": true
    },
    "kernelspec": {
      "name": "python3",
      "display_name": "Python 3"
    },
    "language_info": {
      "name": "python"
    }
  },
  "cells": [
    {
      "cell_type": "markdown",
      "metadata": {
        "id": "view-in-github",
        "colab_type": "text"
      },
      "source": [
        "<a href=\"https://colab.research.google.com/github/VoznesenskayaV/Osnovy_programming/blob/main/Lab3.ipynb\" target=\"_parent\"><img src=\"https://colab.research.google.com/assets/colab-badge.svg\" alt=\"Open In Colab\"/></a>"
      ]
    },
    {
      "cell_type": "code",
      "execution_count": null,
      "metadata": {
        "id": "wnMdTg1Sm5sA"
      },
      "outputs": [],
      "source": []
    },
    {
      "cell_type": "markdown",
      "source": [
        "Программирование на языке высокого уровня (Python).\n",
        "https://www.yuripetrov.ru/edu/python\n",
        "Задание task_03_02_01.\n",
        "#\n",
        "\n",
        "Выполнил: Вознесенская В.Е.\n",
        "Группа: АДЭУ-221\n",
        "E-mail: veroshe4k@gmail.com"
      ],
      "metadata": {
        "id": "uyifBP3Vm8X7"
      }
    },
    {
      "cell_type": "markdown",
      "source": [
        "3.2.1. Числа № 3.2.1\n",
        "\n",
        "Составьте программу, которая запрашивает у пользователя 2 целых числа и выполняет операции:\n",
        "\n",
        "арифметические: +, -, * , / , // , %, **;\n",
        "\n",
        "сравнение: <, <=, >, >=, !=, ==,\n",
        "\n",
        "выводя на экран результат каждого действия. В случае получение вещественного результата, округлите его до 2-х знаков после запятой (используя функцию round())."
      ],
      "metadata": {
        "id": "2FR4kR8Dm_-f"
      }
    },
    {
      "cell_type": "code",
      "source": [
        "a = int(input(\"a=\"))\n",
        "b = int(input(\"b=\"))\n",
        "\n",
        "print(a + b)\n",
        "print(a - b)\n",
        "print(a * b)\n",
        "print(round (a / b,2))\n",
        "print(a // b)\n",
        "print(a % b)\n",
        "\n",
        "print(a ** b)\n",
        "print(a < b)\n",
        "print(a <= b)\n",
        "print(a > b)\n",
        "print(a >= b)\n",
        "print(a != b)\n",
        "print(a == b)\n",
        "\n",
        "\n",
        "\n",
        "# --------------\n",
        "# Пример вывода:\n",
        "#\n",
        "# a=2\n",
        "# b=3\n",
        "# 5\n",
        "# -1\n",
        "# 6\n",
        "# 0.67 \n",
        "# 0\n",
        "# 2\n",
        "# 8\n",
        "# True\n",
        "# True\n",
        "# False\n",
        "# False\n",
        "# True\n",
        "# False"
      ],
      "metadata": {
        "id": "Fgl3xHqonHyN"
      },
      "execution_count": null,
      "outputs": []
    },
    {
      "cell_type": "markdown",
      "source": [
        "№ 3.2.2\n",
        "\n",
        "Вычислите значение следующего выражения (аргументы - целые числа и вводятся с клавиатуры):\n",
        "\n",
        "f=x5+7|−6|⋅y−−−−−−√37−zmody Округлите результат до 3-х знаков после запятой, используя функцию round().\n",
        "![Без названия.jfif](data:image/jpeg;base64,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)"
      ],
      "metadata": {
        "id": "YehITk-qnNx3"
      }
    },
    {
      "cell_type": "code",
      "source": [
        "x = int(input(\"x=\"))\n",
        "y = int(input(\"y=\"))\n",
        "z = int(input(\"z=\"))\n",
        "\n",
        "res =((x**5+7)/abs(-6)/y)**(1/3)/(7-z%y)\n",
        "\n",
        "print(round(res,2))\n",
        "\n",
        "\n",
        "# --------------\n",
        "# Пример вывода:\n",
        "#\n",
        "# x=0\n",
        "# y=1\n",
        "# z=2\n",
        "# 0.15"
      ],
      "metadata": {
        "id": "-GIxxwxSncEH"
      },
      "execution_count": null,
      "outputs": []
    },
    {
      "cell_type": "markdown",
      "source": [
        "№ 3.2.3\n",
        "\n",
        "Дана электрическая цепь, состоящая из 2-х последовательно соединенных проводников (сопротивление каждого известно). Найти общее сопротивление цепи (округление результата необходимо выполнить до 1-го знака после запятой).\n",
        "\n",
        "Решение (начало и общий ход мыслей):\n",
        "\n",
        "Аналитическое решение.\n",
        "\n",
        "Проводники соединены последовательно, поэтому общее сопротивление цепи будет равно сумме их сопротивлений. Сопротивление может быть вещественным числом, поэтому для его хранения необходимо выбрать тип float.\n",
        "\n",
        "Алгоритм.\n",
        "\n",
        "ввести 2 вещественных значения - сопротивления проводников;\n",
        "вычислить их сумму;\n",
        "вывести ответ на экран. Программа."
      ],
      "metadata": {
        "id": "4v1Q3zR2ni-T"
      }
    },
    {
      "cell_type": "code",
      "source": [
        "r1 = float(input(\"r1=\"))\n",
        "r2 = float(input(\"r2=\"))\n",
        "r=r1+r2\n",
        "print(round(r,1))\n",
        "\n",
        "\n",
        "# --------------\n",
        "# Пример вывода:\n",
        "#\n",
        "# r1=12.2\n",
        "# r2=16.1\n",
        "# 28.3"
      ],
      "metadata": {
        "id": "fcmA_t6mnnJg"
      },
      "execution_count": null,
      "outputs": []
    },
    {
      "cell_type": "markdown",
      "source": [
        "№ 3.2.4\n",
        "\n",
        "Дано двузначное и трехзначное число. Для каждого выведите на экран сумму и произведение цифр."
      ],
      "metadata": {
        "id": "TiPNlJ1PnrEZ"
      }
    },
    {
      "cell_type": "code",
      "source": [
        "# Двузначное число\n",
        "num2 = int(input(\"num2=\"))\n",
        "# Трехзначное число\n",
        "num3 = int(input(\"num3=\"))\n",
        "\n",
        "# 1-я цифра числа 'num2'\n",
        "num2_1=(num2//10)\n",
        "# 2-я цифра числа 'num2'\n",
        "num2_2=(num2%10)\n",
        "\n",
        "# Сумма цифр числа 'num2'\n",
        "num2_s=(num2_1+num2_2)\n",
        "# Произведение цифр числа 'num2'\n",
        "num2_p=(num2_1*num2_2)\n",
        "\n",
        "# 1-я цифра числа 'num3'\n",
        "num3_1=(num3//100)\n",
        "# 2-я цифра числа 'num3'\n",
        "num3_2=((num3%100)//10)\n",
        "# 3-я цифра числа 'num3'\n",
        "num3_3=(num3%10)\n",
        "\n",
        "# Сумма цифр числа 'num3'\n",
        "num3_s=(num3_1+num3_2+num3_3)\n",
        "# Произведение цифр числа 'num3'\n",
        "num3_p=(num3_1*num3_2*num3_3)\n",
        "\n",
        "\n",
        "print(num2_s)\n",
        "print(num2_p)\n",
        "print(num3_s)\n",
        "print(num3_p)\n",
        "\n",
        "\n",
        "# --------------\n",
        "# Пример вывода:\n",
        "#\n",
        "# Двузначное число: 45\n",
        "# Трехзначное число: 456\n",
        "# Сумма и произведение цифр двузначного числа: 9 20\n",
        "# Сумма и произведение цифр трехзначного числа: 15 120\n"
      ],
      "metadata": {
        "id": "_T6EqgDEoGMA"
      },
      "execution_count": null,
      "outputs": []
    },
    {
      "cell_type": "markdown",
      "source": [
        "№ 3.2.6\n",
        "\n",
        "Дано уравнение ax + b = 0 и отрезок [m;n]. Ответьте на вопрос, попадает ли решение уравнения в указанный отрезок.\n",
        "\n",
        "Решение (начало и общий ход мыслей):\n",
        "\n",
        "Аналитическое решение.\n",
        "\n",
        "Коэффициенты уравнения и величина отрезка - произвольны, возьмем целые числа. Решение x при этом может быть дробным. После определения x составим логическое выражение попадания в отрезок, что и будет ответом.\n",
        "\n",
        "Алгоритм.\n",
        "\n",
        "- ввести все неизвестные величины;\n",
        "- определить корень уравнения;\n",
        "- составить логическое выражение попадания корня в область;\n",
        "- вывести результат попадания на экран.\n",
        "Программа.\n",
        "\n"
      ],
      "metadata": {
        "id": "azXI9lW5oKze"
      }
    },
    {
      "cell_type": "code",
      "source": [
        "a = int(input())\n",
        "b = int(input())\n",
        "m = int(input())\n",
        "n = int(input())\n",
        "\n",
        "x = -b//a\n",
        "\n",
        "is_ok = bool((x>=m) and (x<=n))\n",
        "\n",
        "print(\"Попадает:\", is_ok)\n",
        "\n",
        "\n",
        "# --------------\n",
        "# Пример вывода:\n",
        "#\n",
        "# Введите a = 1\n",
        "# Введите b = 2\n",
        "# Введите m = -5\n",
        "# Введите n = 5\n",
        "# Попадает: True"
      ],
      "metadata": {
        "id": "Pl1iaXDQoXp2"
      },
      "execution_count": null,
      "outputs": []
    },
    {
      "cell_type": "markdown",
      "source": [
        "№ 3.2.8\n",
        "\n",
        "Составьте программу, которая запрашивает название государства и его столицы, а затем выводит сообщение:\n",
        "\n",
        "Государство - ..., столица - ...\n",
        "На месте многоточий должны быть выведены соответствующие значения."
      ],
      "metadata": {
        "id": "rI7npbEiofTs"
      }
    },
    {
      "cell_type": "code",
      "source": [
        "# Название государства\n",
        "country = input()\n",
        "# Название столицы\n",
        "capital = input()\n",
        "print(\"Государство-\",country)\n",
        "print(\"Столица-\",capital)\n",
        "\n",
        "\n",
        "\n",
        "\n",
        "\n",
        "# --------------\n",
        "# Пример вывода:\n",
        "#\n",
        "# Введите название государства: Россия\n",
        "# Введите название столицы: Москва\n",
        "# Государство - Россия, столица - Москва"
      ],
      "metadata": {
        "id": "du6DKgx4okpk"
      },
      "execution_count": null,
      "outputs": []
    },
    {
      "cell_type": "code",
      "source": [],
      "metadata": {
        "id": "OpklzISCnxas"
      },
      "execution_count": null,
      "outputs": []
    }
  ]
}