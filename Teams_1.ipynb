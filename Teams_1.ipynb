{
  "nbformat": 4,
  "nbformat_minor": 0,
  "metadata": {
    "colab": {
      "provenance": [],
      "authorship_tag": "ABX9TyPv4tgVhDtVPvBgyPwzBp70",
      "include_colab_link": true
    },
    "kernelspec": {
      "name": "python3",
      "display_name": "Python 3"
    },
    "language_info": {
      "name": "python"
    }
  },
  "cells": [
    {
      "cell_type": "markdown",
      "metadata": {
        "id": "view-in-github",
        "colab_type": "text"
      },
      "source": [
        "<a href=\"https://colab.research.google.com/github/VoznesenskayaV/Osnovy_programming/blob/main/Teams_1.ipynb\" target=\"_parent\"><img src=\"https://colab.research.google.com/assets/colab-badge.svg\" alt=\"Open In Colab\"/></a>"
      ]
    },
    {
      "cell_type": "code",
      "source": [
        "import random\n",
        "import time\n",
        "\n",
        "def bubble_sort(arr):\n",
        "    # Сортировка пузырьком\n",
        "    n = len(arr)\n",
        "    for i in range(n):\n",
        "        for j in range(n - 1):\n",
        "            if arr[j] > arr[j + 1]:\n",
        "                arr[j], arr[j + 1] = arr[j + 1], arr[j]\n",
        "\n",
        "def insert_sort(arr):\n",
        "    # Сортировка вставкой\n",
        "    for i in range(1, len(arr)):\n",
        "        key = arr[i]\n",
        "        j = i - 1\n",
        "        while j >= 0 and arr[j] > key:\n",
        "            arr[j + 1] = arr[j]\n",
        "            j -= 1\n",
        "        arr[j + 1] = key\n",
        "\n",
        "def merge_sort(arr):\n",
        "    # Сортировка слиянием\n",
        "    if len(arr) <= 1:\n",
        "        return arr\n",
        "    mid = len(arr) // 2\n",
        "    left_half = arr[:mid]\n",
        "    right_half = arr[mid:]\n",
        "    left_half = merge_sort(left_half)\n",
        "    right_half = merge_sort(right_half)\n",
        "    return merge(left_half, right_half)\n",
        "\n",
        "def merge(left, right):\n",
        "    # Слияние двух отсортированных массивов\n",
        "    result = []\n",
        "    i, j = 0, 0\n",
        "    while i < len(left) and j < len(right):\n",
        "        if left[i] < right[j]:\n",
        "            result.append(left[i])\n",
        "            i += 1\n",
        "        else:\n",
        "            result.append(right[j])\n",
        "            j += 1\n",
        "    while i < len(left):\n",
        "        result.append(left[i])\n",
        "        i += 1\n",
        "    while j < len(right):\n",
        "        result.append(right[j])\n",
        "        j += 1\n",
        "    return result\n",
        "\n",
        "def main():\n",
        "    sizes = [100, 1000]  # Размеры входных массивов\n",
        "    \n",
        "    for size in sizes:\n",
        "        arr = [random.randint(0, 100) for _ in range(size)]  # Генерируем случайный массив заданного размера\n",
        "        \n",
        "        print(f\"Сортировка пузырьком для размера {size}:\")\n",
        "        start = time.time()\n",
        "        bubble_sort(arr.copy())  # Копируем массив для сохранения исходных данных\n",
        "        end = time.time()\n",
        "        print(f\"Время выполнения: {end - start} сек\\n\")\n",
        "        \n",
        "        arr = [random.randint(0, 100) for _ in range(size)]  # Генерируем новый случайный массив\n",
        "        \n",
        "        print(f\"Сортировка вставкой для размера {size}:\")\n",
        "        start = time.time()\n",
        "        insert_sort(arr.copy())  # Копируем массив для сохранения исходных данных\n",
        "        end = time.time()\n",
        "        print(f\"Время выполнения: {end - start} сек\\n\")\n",
        "        \n",
        "        arr = [random.randint(0, 100) for _ in range(size)]  # Генерируем новый случайный массив\n",
        "        \n",
        "        print(f\"Сортировка слиянием для размера {size}:\")\n",
        "        start = time.time()\n",
        "        merge_sort(arr.copy())  # Копируем массив для сохранения исходных данных\n",
        "        end = time.time()\n",
        "        print(f\"Время выполнения: {end - start}\\n\")\n",
        "\n",
        "if __name__ == '__main__':\n",
        "    main()\n",
        "\n"
      ],
      "metadata": {
        "colab": {
          "base_uri": "https://localhost:8080/"
        },
        "id": "VoBWUUi9HzVu",
        "outputId": "610aad4d-799a-4ff8-c7de-e6fd9d101023"
      },
      "execution_count": 9,
      "outputs": [
        {
          "output_type": "stream",
          "name": "stdout",
          "text": [
            "Сортировка пузырьком для размера 100:\n",
            "Время выполнения: 0.001519918441772461 сек\n",
            "\n",
            "Сортировка вставкой для размера 100:\n",
            "Время выполнения: 0.0005810260772705078 сек\n",
            "\n",
            "Сортировка слиянием для размера 100:\n",
            "Время выполнения: 0.00041365623474121094\n",
            "\n",
            "Сортировка пузырьком для размера 1000:\n",
            "Время выполнения: 0.11975717544555664 сек\n",
            "\n",
            "Сортировка вставкой для размера 1000:\n",
            "Время выполнения: 0.04272627830505371 сек\n",
            "\n",
            "Сортировка слиянием для размера 1000:\n",
            "Время выполнения: 0.0032584667205810547\n",
            "\n"
          ]
        }
      ]
    }
  ]
}