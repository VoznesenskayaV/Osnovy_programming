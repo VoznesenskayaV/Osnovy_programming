{
  "nbformat": 4,
  "nbformat_minor": 0,
  "metadata": {
    "colab": {
      "provenance": [],
      "authorship_tag": "ABX9TyP0v9THlLks5dxbK7sX40RR",
      "include_colab_link": true
    },
    "kernelspec": {
      "name": "python3",
      "display_name": "Python 3"
    },
    "language_info": {
      "name": "python"
    }
  },
  "cells": [
    {
      "cell_type": "markdown",
      "metadata": {
        "id": "view-in-github",
        "colab_type": "text"
      },
      "source": [
        "<a href=\"https://colab.research.google.com/github/VoznesenskayaV/Osnovy_programming/blob/main/%D0%A1%D1%8F%D0%B1%D1%81%D1%8F%D0%B1%D0%B0%D0%BA%D0%B5.ipynb\" target=\"_parent\"><img src=\"https://colab.research.google.com/assets/colab-badge.svg\" alt=\"Open In Colab\"/></a>"
      ]
    },
    {
      "cell_type": "code",
      "execution_count": 13,
      "metadata": {
        "colab": {
          "base_uri": "https://localhost:8080/"
        },
        "id": "y-JLBLb5oHcb",
        "outputId": "5d2046b3-2cce-406b-892a-f7603e68049a"
      },
      "outputs": [
        {
          "output_type": "stream",
          "name": "stdout",
          "text": [
            "n = 10\n",
            "m = 10\n",
            "x = -10\n",
            "y = 10\n",
            "В массиве В отрицательные элементы!\n",
            "[4, 5, 6, 5, 6, -8, 5, 1, 5, -7]\n",
            "[-10, 9, 0, -1, -4, -4, 0, 9, -10, -6]\n",
            "A>0\n"
          ]
        }
      ],
      "source": [
        "from random import randint\n",
        "try:\n",
        "  n = int(input(\"n = \")) #кол-во элементов А\n",
        "  m = int(input(\"m = \")) #кол-во элементов В\n",
        "  x = int(input(\"x = \"))\n",
        "  y = int(input(\"y = \")) #Границы random\n",
        "except ValueError:\n",
        "  print(\"Введите числа!\")\n",
        "  \n",
        "a = []\n",
        "b = []\n",
        "def lst_a():\n",
        "  for i in range(n):\n",
        "      a.append(randint(x, y))\n",
        "  return a\n",
        "\n",
        "def lst_b():\n",
        "  for i in range(m):\n",
        "      b.append(randint(x, y))\n",
        "  return b\n",
        "lst_a()\n",
        "lst_b()\n",
        "\n",
        "\n",
        "if all(x > 0 for x in b):\n",
        "  av_a = sum(a) / len(a)\n",
        "  av_b = sum(b) / len(b)\n",
        "else:\n",
        "  print(\"В массиве В отрицательные элементы!\")\n",
        "  av_a = sum(a) / len(a)\n",
        "  av_b = sum(b) / len(b)\n",
        "\n",
        "\n",
        "av_a = sum(a) / len(a)\n",
        "av_b = sum(b) / len(b)\n",
        "\n",
        "print(a)\n",
        "print(b)\n",
        "\n",
        "if av_a > av_b:\n",
        "  print(\"A>0\")\n",
        "else:\n",
        "  print(\"B>0\")"
      ]
    }
  ]
}