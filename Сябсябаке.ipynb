{
  "nbformat": 4,
  "nbformat_minor": 0,
  "metadata": {
    "colab": {
      "provenance": [],
      "authorship_tag": "ABX9TyOe5DcxCLkf29EopXZQgQwd",
      "include_colab_link": true
    },
    "kernelspec": {
      "name": "python3",
      "display_name": "Python 3"
    },
    "language_info": {
      "name": "python"
    }
  },
  "cells": [
    {
      "cell_type": "markdown",
      "metadata": {
        "id": "view-in-github",
        "colab_type": "text"
      },
      "source": [
        "<a href=\"https://colab.research.google.com/github/VoznesenskayaV/Osnovy_programming/blob/main/%D0%A1%D1%8F%D0%B1%D1%81%D1%8F%D0%B1%D0%B0%D0%BA%D0%B5.ipynb\" target=\"_parent\"><img src=\"https://colab.research.google.com/assets/colab-badge.svg\" alt=\"Open In Colab\"/></a>"
      ]
    },
    {
      "cell_type": "code",
      "execution_count": 10,
      "metadata": {
        "colab": {
          "base_uri": "https://localhost:8080/"
        },
        "id": "y-JLBLb5oHcb",
        "outputId": "65587412-d38f-4f3f-f67a-a8bc20cfe263"
      },
      "outputs": [
        {
          "output_type": "stream",
          "name": "stdout",
          "text": [
            "n = 10\n",
            "m = 10\n",
            "x = 1\n",
            "y = 100\n",
            "B>0\n"
          ]
        }
      ],
      "source": [
        "from random import randint\n",
        "try:\n",
        "  n = int(input(\"n = \")) #кол-во элементов А\n",
        "  m = int(input(\"m = \")) #кол-во элементов В\n",
        "  x = int(input(\"x = \"))\n",
        "  y = int(input(\"y = \")) #Границы random\n",
        "except ValueError:\n",
        "  print(\"Введите числа!\")\n",
        "  \n",
        "a = []\n",
        "b = []\n",
        "def lst_a():\n",
        "  for i in range(n):\n",
        "      a.append(randint(x, y))\n",
        "  return a\n",
        "\n",
        "def lst_b():\n",
        "  for i in range(m):\n",
        "      b.append(randint(x, y))\n",
        "  return b\n",
        "lst_a()\n",
        "lst_b()\n",
        "\n",
        "try:\n",
        "  all(x > 0 for x in b)\n",
        "except:\n",
        "  print(\"В массиве В отрицательные элементы!\")\n",
        "\n",
        "\n",
        "av_a = sum(a) / len(a)\n",
        "av_b = sum(b) / len(b)\n",
        "\n",
        "if av_a > av_b:\n",
        "  print(\"A>0\")\n",
        "else:\n",
        "  print(\"B>0\")"
      ]
    }
  ]
}