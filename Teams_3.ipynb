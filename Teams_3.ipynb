{
  "nbformat": 4,
  "nbformat_minor": 0,
  "metadata": {
    "colab": {
      "provenance": [],
      "authorship_tag": "ABX9TyOrS1sZ2laDnt5ODKLIDBkI",
      "include_colab_link": true
    },
    "kernelspec": {
      "name": "python3",
      "display_name": "Python 3"
    },
    "language_info": {
      "name": "python"
    }
  },
  "cells": [
    {
      "cell_type": "markdown",
      "metadata": {
        "id": "view-in-github",
        "colab_type": "text"
      },
      "source": [
        "<a href=\"https://colab.research.google.com/github/VoznesenskayaV/Osnovy_programming/blob/main/Teams_3.ipynb\" target=\"_parent\"><img src=\"https://colab.research.google.com/assets/colab-badge.svg\" alt=\"Open In Colab\"/></a>"
      ]
    },
    {
      "cell_type": "markdown",
      "source": [
        "# №1"
      ],
      "metadata": {
        "id": "j5TQSrEZKg79"
      }
    },
    {
      "cell_type": "code",
      "execution_count": 1,
      "metadata": {
        "colab": {
          "base_uri": "https://localhost:8080/"
        },
        "id": "gv2riLFMKfEt",
        "outputId": "20346a6f-668d-41ec-9bf5-33bfccf6602e"
      },
      "outputs": [
        {
          "output_type": "stream",
          "name": "stdout",
          "text": [
            "{1: 3, 2: 2, 3: 1, 4: 3, 5: 1}\n"
          ]
        }
      ],
      "source": [
        "def count_elements(lst):\n",
        "    # Создаем пустой словарь для хранения результатов подсчета\n",
        "    counts = {}\n",
        "\n",
        "    # Проходим по каждому элементу списка\n",
        "    for num in lst:\n",
        "        # Проверяем, присутствует ли элемент в словаре\n",
        "        if num in counts:\n",
        "            # Если элемент уже присутствует, увеличиваем его счетчик на 1\n",
        "            counts[num] += 1\n",
        "        else:\n",
        "            # Если элемент отсутствует, добавляем его в словарь со значением 1\n",
        "            counts[num] = 1\n",
        "\n",
        "    # Возвращаем словарь с результатами подсчета\n",
        "    return counts\n",
        "\n",
        "# Пример использования\n",
        "my_list = [1, 2, 3, 2, 1, 1, 4, 5, 4, 4]\n",
        "result = count_elements(my_list)\n",
        "print(result)\n"
      ]
    },
    {
      "cell_type": "markdown",
      "source": [
        "# №2"
      ],
      "metadata": {
        "id": "-0O_FmQYK-wP"
      }
    },
    {
      "cell_type": "code",
      "source": [
        "def group_students_by_age(students):\n",
        "    # Создаем пустой словарь для хранения результата\n",
        "    grouped_students = {}\n",
        "\n",
        "    # Проходим по каждой паре ключ-значение в исходном словаре\n",
        "    for name, age in students.items():\n",
        "        # Проверяем, присутствует ли возраст в новом словаре\n",
        "        if age in grouped_students:\n",
        "            # Если возраст уже присутствует, добавляем имя в список значений для данного возраста\n",
        "            grouped_students[age].append(name)\n",
        "        else:\n",
        "            # Если возраст отсутствует, создаем новую запись в словаре с именами в виде списка значений\n",
        "            grouped_students[age] = [name]\n",
        "\n",
        "    # Возвращаем сгруппированный словарь\n",
        "    return grouped_students\n",
        "\n",
        "# Исходный словарь с информацией о студентах\n",
        "students = {\"Имя1\": 20, \"Имя2\": 19, \"Имя3\": 21, \"Имя4\": 20}\n",
        "\n",
        "# Создаем новый словарь, группируя студентов по возрасту\n",
        "result = group_students_by_age(students)\n",
        "print(result)\n"
      ],
      "metadata": {
        "colab": {
          "base_uri": "https://localhost:8080/"
        },
        "id": "QF0ji4yaLAaN",
        "outputId": "a820085b-ab39-4e7d-ca1a-109c5d3790d0"
      },
      "execution_count": 6,
      "outputs": [
        {
          "output_type": "stream",
          "name": "stdout",
          "text": [
            "{20: ['Имя1', 'Имя4'], 19: ['Имя2'], 21: ['Имя3']}\n"
          ]
        }
      ]
    },
    {
      "cell_type": "markdown",
      "source": [
        "# №3"
      ],
      "metadata": {
        "id": "E_RZEnk8M-Ue"
      }
    },
    {
      "cell_type": "code",
      "source": [
        "def max_dct(dicts):\n",
        "    # Создаем пустой словарь для хранения результата\n",
        "    result = {}\n",
        "\n",
        "    # Проходим по каждому словарю в списке\n",
        "    for dct in dicts:\n",
        "        # Проходим по каждой паре ключ-значение в текущем словаре\n",
        "        for key, value in dct.items():\n",
        "            # Проверяем, присутствует ли ключ в результирующем словаре\n",
        "            if key in result:\n",
        "                # Если ключ уже присутствует, выбираем максимальное значение\n",
        "                result[key] = max(result[key], value)\n",
        "            else:\n",
        "                # Если ключ отсутствует, добавляем его с текущим значением в результирующий словарь\n",
        "                result[key] = value\n",
        "\n",
        "    # Возвращаем сформированный словарь\n",
        "    return result\n",
        "\n",
        "def mean_dct(dicts):\n",
        "    # Создаем пустой словарь для хранения результата\n",
        "    result = {}\n",
        "\n",
        "    # Проходим по каждому словарю в списке\n",
        "    for dct in dicts:\n",
        "        # Проходим по каждой паре ключ-значение в текущем словаре\n",
        "        for key, value in dct.items():\n",
        "            # Проверяем, присутствует ли ключ в результирующем словаре\n",
        "            if key in result:\n",
        "                # Если ключ уже присутствует, добавляем значение к общей сумме\n",
        "                result[key] += value\n",
        "            else:\n",
        "                # Если ключ отсутствует, добавляем его с текущим значением в результирующий словарь\n",
        "                result[key] = value\n",
        "\n",
        "    # Вычисляем среднее значение для повторяющихся ключей\n",
        "    for key in result:\n",
        "        result[key] /= len(dicts)\n",
        "\n",
        "    # Возвращаем сформированный словарь\n",
        "    return result\n",
        "\n",
        "# Пример использования\n",
        "dicts = [\n",
        "    {\"a\": 10, \"b\": 5, \"c\": 7},\n",
        "    {\"a\": 15, \"b\": 3, \"d\": 8},\n",
        "    {\"b\": 12, \"c\": 9, \"d\": 6}\n",
        "]\n",
        "\n",
        "max_result = max_dct(dicts)\n",
        "mean_result = mean_dct(dicts)\n",
        "\n",
        "print(\"max_dct:\", max_result)\n",
        "print(\"mean_dct:\", mean_result)\n"
      ],
      "metadata": {
        "colab": {
          "base_uri": "https://localhost:8080/"
        },
        "id": "sI9HyL7XNAgM",
        "outputId": "82b2d0fd-42b5-4aad-cd06-3a47d0c2da5e"
      },
      "execution_count": 9,
      "outputs": [
        {
          "output_type": "stream",
          "name": "stdout",
          "text": [
            "max_dct: {'a': 15, 'b': 12, 'c': 9, 'd': 8}\n",
            "mean_dct: {'a': 8.333333333333334, 'b': 6.666666666666667, 'c': 5.333333333333333, 'd': 4.666666666666667}\n"
          ]
        }
      ]
    }
  ]
}