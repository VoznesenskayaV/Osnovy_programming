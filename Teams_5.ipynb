{
  "nbformat": 4,
  "nbformat_minor": 0,
  "metadata": {
    "colab": {
      "provenance": [],
      "authorship_tag": "ABX9TyOa/wUgjd/2Si/pzXgWTW3Z",
      "include_colab_link": true
    },
    "kernelspec": {
      "name": "python3",
      "display_name": "Python 3"
    },
    "language_info": {
      "name": "python"
    }
  },
  "cells": [
    {
      "cell_type": "markdown",
      "metadata": {
        "id": "view-in-github",
        "colab_type": "text"
      },
      "source": [
        "<a href=\"https://colab.research.google.com/github/VoznesenskayaV/Osnovy_programming/blob/main/Teams_5.ipynb\" target=\"_parent\"><img src=\"https://colab.research.google.com/assets/colab-badge.svg\" alt=\"Open In Colab\"/></a>"
      ]
    },
    {
      "cell_type": "markdown",
      "source": [
        "# №1. v1.0"
      ],
      "metadata": {
        "id": "WPaIlvbjTAyH"
      }
    },
    {
      "cell_type": "code",
      "source": [
        "class Heap:\n",
        "    def __init__(self):\n",
        "        # Инициализация пустой кучи\n",
        "        self.heap = []\n",
        "\n",
        "    def get_min(self):\n",
        "        \"\"\"\n",
        "        Возвращает минимальный элемент кучи.\n",
        "\n",
        "        \"\"\"\n",
        "        if not self.heap:\n",
        "            raise IndexError(\"Heap is empty\")\n",
        "        return self.heap[0]\n",
        "\n",
        "    def remove_min(self):\n",
        "        \"\"\"\n",
        "        Удаляет и возвращает минимальный элемент кучи.\n",
        "\n",
        "        \"\"\"\n",
        "        if not self.heap:\n",
        "            raise IndexError(\"Heap is empty\")\n",
        "\n",
        "        # Сохраняем минимальный элемент\n",
        "        min_val = self.heap[0]\n",
        "\n",
        "        # Заменяем минимальный элемент последним элементом\n",
        "        self.heap[0] = self.heap[-1]\n",
        "        self.heap.pop()\n",
        "        \n",
        "        # Восстанавливаем свойство кучи\n",
        "        self._heapify_down(0)\n",
        "\n",
        "        return min_val\n",
        "\n",
        "    def insert(self, value):\n",
        "        \"\"\"\n",
        "        Вставляет новый элемент в кучу.\n",
        "\n",
        "        \"\"\"\n",
        "        self.heap.append(value)\n",
        "\n",
        "        # Восстанавливаем свойство кучи\n",
        "        self._heapify_up(len(self.heap) - 1)\n",
        "\n",
        "\n",
        "    def _heapify_up(self, index):\n",
        "        \"\"\"\n",
        "        Восстанавливает свойство кучи при вставке элемента с заданным индексом,\n",
        "        перемещая элемент вверх по куче до тех пор, пока он не достигает своего правильного места.\n",
        "\n",
        "        Сложность времени: O(log n)\n",
        "        \"\"\"\n",
        "        parent_index = (index - 1) // 2\n",
        "\n",
        "        # Пока не достигнуто корневое значение и текущий элемент меньше родительского элемента\n",
        "        while index > 0 and self.heap[index] < self.heap[parent_index]:\n",
        "            # Меняем местами текущий элемент и родительский элемент\n",
        "            self.heap[index], self.heap[parent_index] = self.heap[parent_index], self.heap[index]\n",
        "\n",
        "            # Переходим к родительскому узлу\n",
        "            index = parent_index\n",
        "            parent_index = (index - 1) // 2\n",
        "\n",
        "    def _heapify_down(self, index):\n",
        "        \"\"\"\n",
        "        Восстанавливает свойство кучи при удалении минимального элемента,\n",
        "        перемещая элемент вниз по куче до тех пор, пока он не достигает своего правильного места.\n",
        "\n",
        "        Сложность времени: O(log n)\n",
        "        \"\"\"\n",
        "        left_child_index = 2 * index + 1\n",
        "        right_child_index = 2 * index + 2\n",
        "        smallest_index = index\n",
        "\n",
        "        # Если левый потомок существует и меньше текущего элемента\n",
        "        if left_child_index < len(self.heap) and self.heap[left_child_index] < self.heap[smallest_index]:\n",
        "          smallest_index = left_child_index\n",
        "\n",
        "        # Если правый потомок существует и меньше текущего наименьшего элемента\n",
        "        if right_child_index < len(self.heap) and self.heap[right_child_index] < self.heap[smallest_index]:\n",
        "          smallest_index = right_child_index\n",
        "\n",
        "        # Если текущий элемент не является наименьшим, меняем его местами с наименьшим потомком\n",
        "        if smallest_index != index:\n",
        "          self.heap[index], self.heap[smallest_index] = self.heap[smallest_index], self.heap[index]\n",
        "\n",
        "        # Рекурсивно продолжаем восстановление свойства кучи вниз\n",
        "          self._heapify_down(smallest_index)"
      ],
      "metadata": {
        "id": "oxXmITI7Sy-V"
      },
      "execution_count": 11,
      "outputs": []
    },
    {
      "cell_type": "code",
      "source": [
        "# Создание объекта кучи\n",
        "heap = Heap()\n",
        "\n",
        "# Вставка элементов в кучу\n",
        "heap.insert(5)\n",
        "heap.insert(2)\n",
        "heap.insert(8)\n",
        "heap.insert(1)\n",
        "heap.insert(10)\n",
        "\n",
        "# Получение минимального элемента\n",
        "min_val = heap.get_min()\n",
        "print(\"Min value:\", min_val)  # Вывод: Min value: 1\n",
        "\n",
        "# Удаление минимального элемента\n",
        "removed_val = heap.remove_min()\n",
        "print(\"Removed value:\", removed_val)  # Вывод: Removed value: 1\n",
        "\n",
        "# Вставка нового элемента\n",
        "heap.insert(3)\n",
        "\n",
        "# Получение нового минимального элемента\n",
        "min_val = heap.get_min()\n",
        "print(\"Min value:\", min_val)  # Вывод: Min value: 2"
      ],
      "metadata": {
        "colab": {
          "base_uri": "https://localhost:8080/"
        },
        "id": "AiJpDGMgTNge",
        "outputId": "fbcea5ba-fe37-4b26-e876-0bf43236b080"
      },
      "execution_count": 12,
      "outputs": [
        {
          "output_type": "stream",
          "name": "stdout",
          "text": [
            "Min value: 1\n",
            "Removed value: 1\n",
            "Min value: 2\n"
          ]
        }
      ]
    },
    {
      "cell_type": "markdown",
      "source": [
        "# v1.1"
      ],
      "metadata": {
        "id": "VHhJiQOiUR0O"
      }
    },
    {
      "cell_type": "code",
      "source": [
        "class Heap:\n",
        "    def __init__(self):\n",
        "        self.heap = []\n",
        "        self.size = 0\n",
        "\n",
        "    def get_min(self):\n",
        "        # Проверяем, пустая ли куча\n",
        "        if self.size == 0:\n",
        "            return None\n",
        "\n",
        "        # Возвращаем минимальный элемент, который всегда находится в корне кучи\n",
        "        return self.heap[0]\n",
        "\n",
        "    def remove_min(self):\n",
        "        # Проверяем, пустая ли куча\n",
        "        if self.size == 0:\n",
        "            return None\n",
        "\n",
        "        # Сохраняем минимальный элемент\n",
        "        min_element = self.heap[0]\n",
        "\n",
        "        # Перемещаем последний элемент кучи на место корня\n",
        "        self.heap[0] = self.heap[self.size - 1]\n",
        "        self.size -= 1\n",
        "\n",
        "        # Вызываем процедуру просеивания вниз для восстановления свойств кучи\n",
        "        self._sift_down(0)\n",
        "\n",
        "        # Возвращаем удаленный минимальный элемент\n",
        "        return min_element\n",
        "\n",
        "    def insert(self, value):\n",
        "        # Добавляем элемент в конец кучи\n",
        "        self.heap.append(value)\n",
        "        self.size += 1\n",
        "\n",
        "        # Вызываем процедуру просеивания вверх для восстановления свойств кучи\n",
        "        self._sift_up(self.size - 1)\n",
        "\n",
        "    def _sift_down(self, index):\n",
        "        # Процедура просеивания вниз для восстановления свойств кучи\n",
        "\n",
        "        while True:\n",
        "            # Вычисляем индексы левого и правого потомков текущего элемента\n",
        "            left_child = 2 * index + 1\n",
        "            right_child = 2 * index + 2\n",
        "\n",
        "            # Инициализируем индекс наименьшего элемента\n",
        "            smallest = index\n",
        "\n",
        "            # Сравниваем текущий элемент со своим левым потомком\n",
        "            if left_child < self.size and self.heap[left_child] < self.heap[smallest]:\n",
        "                smallest = left_child\n",
        "\n",
        "            # Сравниваем текущий элемент со своим правым потомком\n",
        "            if right_child < self.size and self.heap[right_child] < self.heap[smallest]:\n",
        "                smallest = right_child\n",
        "\n",
        "            # Если индекс наименьшего элемента изменился, меняем элементы местами\n",
        "            if smallest != index:\n",
        "                self.heap[index], self.heap[smallest] = self.heap[smallest], self.heap[index]\n",
        "                index = smallest\n",
        "            else:\n",
        "                break\n",
        "\n",
        "    def _sift_up(self, index):\n",
        "    # Процедура просеивания вверх для восстановления свойств кучи\n",
        "\n",
        "      while index > 0:\n",
        "        # Если индекс достигает корня, выходим из цикла\n",
        "          if index == 0:\n",
        "            break\n",
        "\n",
        "        # Вычисляем индекс родителя текущего элемента\n",
        "          parent = (index - 1) // 2\n",
        "\n",
        "        # Если родительский элемент больше текущего элемента, меняем их местами\n",
        "          if self.heap[parent] > self.heap[index]:\n",
        "            self.heap[parent], self.heap[index] = self.heap[index], self.heap[parent]\n",
        "            index = parent\n",
        "          else:\n",
        "            break\n"
      ],
      "metadata": {
        "id": "g8TXVH8eUUgc"
      },
      "execution_count": 21,
      "outputs": []
    },
    {
      "cell_type": "code",
      "source": [
        "# Создание объекта кучи\n",
        "heap = Heap()\n",
        "\n",
        "# Вставка элементов в кучу\n",
        "heap.insert(10)\n",
        "heap.insert(5)\n",
        "heap.insert(15)\n",
        "heap.insert(20)\n",
        "\n",
        "# Получение минимального элемента\n",
        "min_element = heap.get_min()\n",
        "print(\"Минимальный элемент:\", min_element)  # Вывод: Минимальный элемент: 5\n",
        "\n",
        "# Удаление минимального элемента\n",
        "removed_element = heap.remove_min()\n",
        "print(\"Удаленный элемент:\", removed_element)  # Вывод: Удаленный элемент: 5\n",
        "\n",
        "# Получение минимального элемента после удаления\n",
        "min_element = heap.get_min()\n",
        "print(\"Минимальный элемент:\", min_element)  # Вывод: Минимальный элемент: 10"
      ],
      "metadata": {
        "colab": {
          "base_uri": "https://localhost:8080/"
        },
        "id": "oUguLhfZV0n9",
        "outputId": "d27d50d8-3747-4c11-a499-620b7fe63111"
      },
      "execution_count": 22,
      "outputs": [
        {
          "output_type": "stream",
          "name": "stdout",
          "text": [
            "Минимальный элемент: 5\n",
            "Удаленный элемент: 5\n",
            "Минимальный элемент: 10\n"
          ]
        }
      ]
    },
    {
      "cell_type": "markdown",
      "source": [
        "# v1.2"
      ],
      "metadata": {
        "id": "2rnppg1bXVF-"
      }
    },
    {
      "cell_type": "code",
      "source": [
        "class Heap:\n",
        "    def __init__(self):\n",
        "        self.heap = []  # Инициализируем пустую кучу\n",
        "\n",
        "    def get_max(self):\n",
        "        \"\"\"\n",
        "        Возвращает максимальное значение из кучи без удаления его из кучи.\n",
        "        \"\"\"\n",
        "        if len(self.heap) > 0:\n",
        "            return self.heap[-1]  # Максимальное значение находится в конце массива\n",
        "        else:\n",
        "            raise IndexError(\"Куча пуста\")\n",
        "\n",
        "    def remove_max(self):\n",
        "        \"\"\"\n",
        "        Удаляет и возвращает максимальное значение из кучи.\n",
        "        \"\"\"\n",
        "        if len(self.heap) > 0:\n",
        "            return self.heap.pop()  # Удаляем и возвращаем максимальное значение\n",
        "        else:\n",
        "            raise IndexError(\"Куча пуста\")\n",
        "\n",
        "    def insert(self, value):\n",
        "        \"\"\"\n",
        "        Вставляет новое значение в кучу и перестраивает кучу.\n",
        "        \"\"\"\n",
        "        self.heap.append(value)  # Добавляем новое значение в конец массива\n",
        "        self._sift_up(len(self.heap) - 1)  # Перестраиваем кучу вверх\n",
        "\n",
        "    def _sift_up(self, index):\n",
        "        \"\"\"\n",
        "        Вспомогательная функция для перестроения кучи вверх.\n",
        "        \"\"\"\n",
        "        while index > 0:\n",
        "            parent_index = (index - 1) // 2  # Индекс родительского узла\n",
        "            if self.heap[parent_index] < self.heap[index]:\n",
        "                break  # Если родительский узел меньше или равен текущему значению, то прерываем цикл\n",
        "            self.heap[parent_index], self.heap[index] = self.heap[index], self.heap[parent_index]\n",
        "            index = parent_index  # Обновляем индекс текущего значения\n",
        "\n",
        "    def print_heap(self):\n",
        "        \"\"\"\n",
        "        Выводит содержимое кучи от большего к меньшему.\n",
        "        \"\"\"\n",
        "        reversed_heap = self.heap[::-1]  # Срез с шагом -1 для получения обратного порядка\n",
        "        print(reversed_heap)\n"
      ],
      "metadata": {
        "id": "uuQ1hm53XYC_"
      },
      "execution_count": 34,
      "outputs": []
    },
    {
      "cell_type": "code",
      "source": [
        "# Создание объекта кучи\n",
        "heap = Heap()\n",
        "\n",
        "# Вставка значений в кучу\n",
        "heap.insert(10)\n",
        "heap.insert(5)\n",
        "heap.insert(8)\n",
        "heap.insert(3)\n",
        "\n",
        "# Вывод содержимого кучи\n",
        "heap.print_heap()  # [10, 8, 5, 3]\n",
        "\n",
        "# Получение максимального значения из кучи\n",
        "max_value = heap.get_max()\n",
        "print(\"Максимальное значение:\", max_value)  # Максимальное значение: 10\n",
        "\n",
        "# Удаление максимального значения из кучи\n",
        "removed_value = heap.remove_max()\n",
        "print(\"Удаленное значение:\", removed_value)  # Удаленное значение: 10\n",
        "\n",
        "# Вывод содержимого кучи после удаления\n",
        "heap.print_heap()  # [8, 5, 3]"
      ],
      "metadata": {
        "colab": {
          "base_uri": "https://localhost:8080/"
        },
        "id": "mDEOrLFfYKdG",
        "outputId": "246ed7d2-2c1b-4a06-f2b0-4bc3113d705f"
      },
      "execution_count": 35,
      "outputs": [
        {
          "output_type": "stream",
          "name": "stdout",
          "text": [
            "[10, 8, 5, 3]\n",
            "Максимальное значение: 10\n",
            "Удаленное значение: 10\n",
            "[8, 5, 3]\n"
          ]
        }
      ]
    },
    {
      "cell_type": "markdown",
      "source": [
        "# №2 v2.0"
      ],
      "metadata": {
        "id": "1mtGPG4naSXn"
      }
    },
    {
      "cell_type": "code",
      "source": [
        "class BinaryHeap:\n",
        "    def __init__(self):\n",
        "        self.heap = []  # Инициализируем пустую двоичную кучу\n",
        "\n",
        "    def get_min(self):\n",
        "        \"\"\"\n",
        "        Возвращает минимальное значение из кучи без удаления его из кучи.\n",
        "        \"\"\"\n",
        "        if len(self.heap) > 0:\n",
        "            return self.heap[0]  # Минимальное значение находится в корне кучи\n",
        "        else:\n",
        "            raise IndexError(\"Куча пуста\")\n",
        "\n",
        "    def remove_min(self):\n",
        "        \"\"\"\n",
        "        Удаляет и возвращает минимальное значение из кучи.\n",
        "        \"\"\"\n",
        "        if len(self.heap) > 0:\n",
        "            min_value = self.heap[0]  # Запоминаем минимальное значение\n",
        "            last_value = self.heap.pop()  # Удаляем последний элемент из кучи\n",
        "            if len(self.heap) > 0:\n",
        "                self.heap[0] = last_value  # Заменяем корень кучи последним элементом\n",
        "                self._sift_down(0)  # Восстанавливаем свойство двоичной кучи\n",
        "            return min_value\n",
        "        else:\n",
        "            raise IndexError(\"Куча пуста\")\n",
        "\n",
        "    def insert(self, value):\n",
        "        \"\"\"\n",
        "        Вставляет новое значение в кучу и перестраивает кучу.\n",
        "        \"\"\"\n",
        "        self.heap.append(value)  # Добавляем новое значение в конец массива\n",
        "        self._sift_up(len(self.heap) - 1)  # Перестраиваем кучу вверх\n",
        "\n",
        "    def _sift_up(self, index):\n",
        "        \"\"\"\n",
        "        Вспомогательная функция для перестроения кучи вверх.\n",
        "        \"\"\"\n",
        "        while index > 0:\n",
        "            parent_index = (index - 1) // 2  # Индекс родительского узла\n",
        "            if self.heap[parent_index] <= self.heap[index]:\n",
        "                break  # Если родительский узел меньше или равен текущему значению, прерываем цикл\n",
        "            self.heap[parent_index], self.heap[index] = self.heap[index], self.heap[parent_index]\n",
        "            index = parent_index  # Обновляем индекс текущего значения\n",
        "\n",
        "    def _sift_down(self, index):\n",
        "        \"\"\"\n",
        "        Вспомогательная функция для перестроения кучи вниз.\n",
        "        \"\"\"\n",
        "        left_child_index = 2 * index + 1  # Индекс левого дочернего узла\n",
        "        right_child_index = 2 * index + 2  # Индекс правого дочернего узла\n",
        "        smallest_index = index  # Индекс узла с наименьшим значением\n",
        "\n",
        "        # Проверяем левый дочерний узел\n",
        "        if left_child_index < len(self.heap) and self.heap[left_child_index] < self.heap[smallest_index]:\n",
        "            smallest_index = left_child_index\n",
        "        \n",
        "        # Проверяем правый дочерний узел\n",
        "        if right_child_index < len(self.heap) and self.heap[right_child_index] < self.heap[smallest_index]:\n",
        "            smallest_index = right_child_index\n",
        "\n",
        "        # Если узел с наименьшим значением не является текущим узлом, меняем их местами\n",
        "        if smallest_index != index:\n",
        "            self.heap[smallest_index], self.heap[index] = self.heap[index], self.heap[smallest_index]\n",
        "            self._sift_down(smallest_index)  # Рекурсивно вызываем себя для узла с наименьшим значением\n",
        "\n",
        "    def print_heap(self):\n",
        "        \"\"\"\n",
        "        Выводит содержимое кучи.\n",
        "        \"\"\"\n",
        "        print(self.heap)"
      ],
      "metadata": {
        "id": "M_vFYTtFaXGe"
      },
      "execution_count": 36,
      "outputs": []
    },
    {
      "cell_type": "code",
      "source": [
        "# Создание объекта двоичной кучи\n",
        "heap = BinaryHeap()\n",
        "\n",
        "# Вставка значений в кучу\n",
        "heap.insert(10)\n",
        "heap.insert(5)\n",
        "heap.insert(8)\n",
        "heap.insert(3)\n",
        "\n",
        "# Вывод содержимого кучи\n",
        "heap.print_heap()  # [3, 5, 8, 10]\n",
        "\n",
        "# Получение минимального значения из кучи\n",
        "min_value = heap.get_min()\n",
        "print(\"Минимальное значение:\", min_value)  # Минимальное значение: 3\n",
        "\n",
        "# Удаление минимального значения из кучи\n",
        "removed_value = heap.remove_min()\n",
        "print(\"Удаленное значение:\", removed_value)  # Удаленное значение: 3\n",
        "\n",
        "# Вывод содержимого кучи после удаления\n",
        "heap.print_heap()  # [5, 10, 8]\n"
      ],
      "metadata": {
        "colab": {
          "base_uri": "https://localhost:8080/"
        },
        "id": "H58R2IILbZ0l",
        "outputId": "2a36f321-3f13-4331-f173-502ab5b17b16"
      },
      "execution_count": 37,
      "outputs": [
        {
          "output_type": "stream",
          "name": "stdout",
          "text": [
            "[3, 5, 8, 10]\n",
            "Минимальное значение: 3\n",
            "Удаленное значение: 3\n",
            "[5, 10, 8]\n"
          ]
        }
      ]
    },
    {
      "cell_type": "markdown",
      "source": [
        "# v2.1"
      ],
      "metadata": {
        "id": "qyP2MRuObmxP"
      }
    },
    {
      "cell_type": "code",
      "source": [
        "class BinaryHeap:\n",
        "    def __init__(self):\n",
        "        self.heap = []  # Инициализация пустой двоичной кучи\n",
        "\n",
        "    def get_min(self):\n",
        "        \"\"\"\n",
        "        Возвращает минимальный элемент в куче.\n",
        "        \"\"\"\n",
        "        if not self.heap:\n",
        "            raise IndexError(\"Heap is empty\")\n",
        "        return self.heap[0]  # Корень кучи содержит минимальный элемент\n",
        "\n",
        "    def remove_min(self):\n",
        "        \"\"\"\n",
        "        Удаляет минимальный элемент из кучи и возвращает его.\n",
        "        \"\"\"\n",
        "        if not self.heap:\n",
        "            raise IndexError(\"Heap is empty\")\n",
        "        if len(self.heap) == 1:\n",
        "            return self.heap.pop()\n",
        "\n",
        "        min_element = self.heap[0]\n",
        "        self.heap[0] = self.heap.pop()  # Заменяем корень на последний элемент кучи\n",
        "        self._heapify_down(0)  # Восстанавливаем свойство двоичной кучи\n",
        "        return min_element\n",
        "\n",
        "    def insert(self, item):\n",
        "        \"\"\"\n",
        "        Вставляет элемент в кучу.\n",
        "        \"\"\"\n",
        "        self.heap.append(item)  # Добавляем элемент в конец кучи\n",
        "        self._heapify_up(len(self.heap) - 1)  # Восстанавливаем свойство двоичной кучи\n",
        "\n",
        "    def _heapify_up(self, index):\n",
        "        \"\"\"\n",
        "        Восстанавливает свойство двоичной кучи, перемещая элемент вверх по куче.\n",
        "        \"\"\"\n",
        "        parent_index = (index - 1) // 2\n",
        "        if index > 0 and self.heap[index] < self.heap[parent_index]:\n",
        "            self.heap[index], self.heap[parent_index] = self.heap[parent_index], self.heap[index]\n",
        "            self._heapify_up(parent_index)  # Рекурсивно продолжаем восстановление кучи\n",
        "\n",
        "    def _heapify_down(self, index):\n",
        "        \"\"\"\n",
        "        Восстанавливает свойство двоичной кучи, перемещая элемент вниз по куче.\n",
        "        \"\"\"\n",
        "        left_child_index = 2 * index + 1\n",
        "        right_child_index = 2 * index + 2\n",
        "        smallest = index\n",
        "\n",
        "        # Находим наименьший элемент среди корня, левого и правого дочерних элементов\n",
        "        if left_child_index < len(self.heap) and self.heap[left_child_index] < self.heap[smallest]:\n",
        "            smallest = left_child_index\n",
        "        if right_child_index < len(self.heap) and self.heap[right_child_index] < self.heap[smallest]:\n",
        "            smallest = right_child_index\n",
        "\n",
        "        if smallest != index:\n",
        "            self.heap[index], self.heap[smallest] = self.heap[smallest], self.heap[index]\n",
        "            self._heapify_down(smallest)  # Рекурсивно продолжаем восстановление кучи\n"
      ],
      "metadata": {
        "id": "X22aYbzzbpV4"
      },
      "execution_count": 38,
      "outputs": []
    },
    {
      "cell_type": "code",
      "source": [
        "# Создаем экземпляр класса BinaryHeap\n",
        "heap = BinaryHeap()\n",
        "\n",
        "# Вставляем элементы в кучу\n",
        "heap.insert(5)\n",
        "heap.insert(3)\n",
        "heap.insert(8)\n",
        "heap.insert(1)\n",
        "\n",
        "# Получаем минимальный элемент из кучи и выводим его\n",
        "print(heap.get_min())  # Выведет: 1\n",
        "\n",
        "# Удаляем минимальный элемент из кучи и выводим его\n",
        "print(heap.remove_min())  # Выведет: 1\n",
        "\n",
        "# Удаляем оставшиеся элементы из кучи и выводим их\n",
        "print(heap.remove_min())  # Выведет: 3\n",
        "print(heap.remove_min())  # Выведет: 5\n",
        "print(heap.remove_min())  # Выведет: 8\n",
        "\n",
        "# Попытка удалить минимальный элемент из пустой кучи вызовет исключение IndexError\n",
        "# print(heap.remove_min())  # Вызовет исключение IndexError: Heap is empty\n"
      ],
      "metadata": {
        "colab": {
          "base_uri": "https://localhost:8080/"
        },
        "id": "4fzcGvfccZj9",
        "outputId": "5d920ac5-93a6-4a43-d727-2655757a898f"
      },
      "execution_count": 39,
      "outputs": [
        {
          "output_type": "stream",
          "name": "stdout",
          "text": [
            "1\n",
            "1\n",
            "3\n",
            "5\n",
            "8\n"
          ]
        }
      ]
    },
    {
      "cell_type": "markdown",
      "source": [
        "# №3"
      ],
      "metadata": {
        "id": "UFzY5GZoceN-"
      }
    },
    {
      "cell_type": "markdown",
      "source": [
        "Для реализации сортировки массива с использованием двоичной кучи, мы можем воспользоваться ранее созданным классом BinaryHeap. Вот код, который сортирует массив с использованием двоичной кучи:"
      ],
      "metadata": {
        "id": "Ugp27SyBcrie"
      }
    },
    {
      "cell_type": "code",
      "source": [
        "import random\n",
        "import time\n",
        "\n",
        "def heap_sort(arr):\n",
        "    heap = BinaryHeap()  # Создаем экземпляр класса BinaryHeap\n",
        "\n",
        "    # Вставляем элементы массива в кучу\n",
        "    for num in arr:\n",
        "        heap.insert(num)\n",
        "\n",
        "    sorted_arr = []\n",
        "    while len(heap.heap) > 0:\n",
        "        sorted_arr.append(heap.remove_min())\n",
        "\n",
        "    return sorted_arr\n",
        "\n",
        "# Генерируем случайный массив\n",
        "array_length = 100\n",
        "array = [random.randint(1, 100) for _ in range(array_length)]\n",
        "\n",
        "# Сортируем массив с использованием двоичной кучи и замеряем время работы\n",
        "start_time = time.time()\n",
        "sorted_array = heap_sort(array)\n",
        "end_time = time.time()\n",
        "\n",
        "# Выводим отсортированный массив и время работы сортировки\n",
        "print(\"Sorted array:\", sorted_array)\n",
        "print(\"Time taken:\", end_time - start_time, \"seconds\")\n"
      ],
      "metadata": {
        "colab": {
          "base_uri": "https://localhost:8080/"
        },
        "id": "Rb0e0vCYcfzf",
        "outputId": "69246336-7fd1-4c31-b55a-558aa73c9bd4"
      },
      "execution_count": 48,
      "outputs": [
        {
          "output_type": "stream",
          "name": "stdout",
          "text": [
            "Sorted array: [4, 6, 6, 7, 8, 9, 10, 11, 12, 12, 13, 15, 15, 18, 20, 20, 24, 28, 29, 30, 31, 33, 33, 34, 35, 37, 37, 37, 38, 38, 38, 38, 38, 38, 40, 41, 41, 43, 45, 46, 46, 49, 50, 52, 56, 57, 58, 60, 60, 64, 66, 66, 68, 69, 70, 71, 72, 73, 74, 74, 75, 75, 77, 77, 78, 79, 80, 81, 81, 82, 82, 82, 82, 84, 85, 85, 86, 86, 86, 87, 87, 88, 89, 90, 91, 92, 93, 93, 94, 94, 94, 95, 95, 96, 97, 98, 99, 100, 100, 100]\n",
            "Time taken: 0.0007302761077880859 seconds\n"
          ]
        }
      ]
    }
  ]
}