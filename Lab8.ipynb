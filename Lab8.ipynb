{
  "nbformat": 4,
  "nbformat_minor": 0,
  "metadata": {
    "colab": {
      "provenance": [],
      "authorship_tag": "ABX9TyPqBRsUWoIZNDuImjEOh5lb",
      "include_colab_link": true
    },
    "kernelspec": {
      "name": "python3",
      "display_name": "Python 3"
    },
    "language_info": {
      "name": "python"
    }
  },
  "cells": [
    {
      "cell_type": "markdown",
      "metadata": {
        "id": "view-in-github",
        "colab_type": "text"
      },
      "source": [
        "<a href=\"https://colab.research.google.com/github/VoznesenskayaV/Osnovy_programming/blob/main/Lab8.ipynb\" target=\"_parent\"><img src=\"https://colab.research.google.com/assets/colab-badge.svg\" alt=\"Open In Colab\"/></a>"
      ]
    },
    {
      "cell_type": "markdown",
      "source": [
        "# Программирование на языке высокого уровня (Python).\n",
        "# https://www.yuripetrov.ru/edu/python\n",
        "# Задание task_08_02_01.\n",
        "#\n",
        "# Выполнил: Вознесенская В.Е.\n",
        "# Группа: АДЭУ-221\n",
        "# E-mail: veroshe4k@gmail.com\n"
      ],
      "metadata": {
        "id": "rixlmeM8v99I"
      }
    },
    {
      "cell_type": "markdown",
      "source": [
        "# № 8.2.1"
      ],
      "metadata": {
        "id": "8uIP07ihwKOe"
      }
    },
    {
      "cell_type": "code",
      "execution_count": null,
      "metadata": {
        "colab": {
          "base_uri": "https://localhost:8080/"
        },
        "id": "ZaqfVtJzch3a",
        "outputId": "8bb8da1a-a9b5-49ee-b8d2-2487672d0974"
      },
      "outputs": [
        {
          "name": "stdout",
          "output_type": "stream",
          "text": [
            "1 2 3 4\n"
          ]
        }
      ],
      "source": [
        "\n",
        "def load_data():\n",
        "    \"\"\"Вернуть список вещественных чисел, введенных с клавиатуры.\n",
        "\n",
        "    Числа вводятся в одной строке.\"\"\"\n",
        "    a = list(map(float, input().split()))\n",
        "    return a  \n",
        "\n",
        "\n",
        "def save_data(values, filename):\n",
        "    \"\"\"Записать данные в файл.\n",
        "\n",
        "    Параметры:\n",
        "        - values (list of float): список вещественных чисел;\n",
        "        - filename (str): имя файла.\n",
        "\n",
        "    Функция не обрабатывает исключения.\n",
        "    \"\"\"\n",
        "    f = open(filename, 'w')\n",
        "    for i in values:\n",
        "      f.write(str(i) + \"\\n\")\n",
        "    f.close()\n",
        "\n",
        "\n",
        "try:\n",
        "    filename = \"output.txt\"\n",
        "    values = load_data()\n",
        "    save_data(values, filename)\n",
        "\n",
        "except ValueError as err:\n",
        "    print(\"Числа были введены с ошибкой.\")\n",
        "\n",
        "except (OSError, IOError) as err:\n",
        "    print(\"Ошибка при сохранении файла с данными:\", err)\n",
        "\n",
        "except Exception as err:\n",
        "    print(\"Произошла ошибка!\")\n",
        "    print(\"Тип:\", type(err))\n",
        "    print(\"Описание:\", err)\n"
      ]
    },
    {
      "cell_type": "markdown",
      "source": [
        "# № 8.2.2"
      ],
      "metadata": {
        "id": "_9jyHGRywN1M"
      }
    },
    {
      "cell_type": "code",
      "source": [
        "def load_data(filename):\n",
        "    \"\"\"Загрузить список вещественных чисел из файла 'filename'.\n",
        "\n",
        "    Функция не обрабатывает исключения.\"\"\"\n",
        "    f = open(filename, \"r\")\n",
        "    lst = []\n",
        "    for i in f:\n",
        "      lst.append(float(i))\n",
        "    f.close()\n",
        "    return lst\n",
        "      \n",
        "\n",
        "\n",
        "def append_to_file(values, filename):\n",
        "    \"\"\"Дописать данные в файл.\n",
        "\n",
        "    Параметры:\n",
        "        - values (list of float): список вещественных чисел;\n",
        "        - filename (str): имя файла.\n",
        "    \"\"\"\n",
        "    f = open(filename, \"a\")\n",
        "    f.write(str(sum(values)) + \"\\n\")\n",
        "    f.write(str(max(values)) + \"\\n\")\n",
        "    f.close()\n",
        "\n",
        "\n",
        "try:\n",
        "    filename = \"output.txt\"\n",
        "    values = load_data(filename)\n",
        "    \n",
        "\n",
        "    # Удалите комментарий и допишите код\n",
        "    append_to_file(values, filename)\n",
        "\n",
        "except FileNotFoundError as err:\n",
        "    print(\"Указанный файл не существует.\")\n",
        "\n",
        "except (IOError, ValueError) as err:\n",
        "    print(\"Ошибка при чтении/сохранении файла с данными:\", err)\n",
        "\n",
        "except Exception as err:\n",
        "    print(\"Произошла ошибка!\")\n",
        "    print(\"Тип:\", type(err))\n",
        "    print(\"Описание:\", err)\n"
      ],
      "metadata": {
        "colab": {
          "base_uri": "https://localhost:8080/"
        },
        "id": "vKidfes0gDxL",
        "outputId": "c521558b-f49a-4e19-fb14-befd621aa0e0"
      },
      "execution_count": null,
      "outputs": [
        {
          "output_type": "stream",
          "name": "stdout",
          "text": [
            "[1.0, 2.0, 3.0, 4.0]\n"
          ]
        }
      ]
    },
    {
      "cell_type": "markdown",
      "source": [
        "# № 8.2.3"
      ],
      "metadata": {
        "id": "bb65ryOqwTD1"
      }
    },
    {
      "cell_type": "code",
      "source": [
        "def load_data(filename):\n",
        "    \"\"\"Загрузить список вещественных чисел из файла 'filename'.\n",
        "\n",
        "    Функция не обрабатывает исключения.\"\"\"\n",
        "    f = open(filename, \"r\")\n",
        "    lst = []\n",
        "    for i in f:\n",
        "      if i[0].isdigit():\n",
        "        for j in range(len(i)-1):\n",
        "          if i[j].isdigit() or i[j] == \".\":\n",
        "            pass\n",
        "          else:\n",
        "            break\n",
        "        else:\n",
        "          lst.append(float(i))\n",
        "    f.close()\n",
        "    return lst\n",
        "          \n",
        "\n",
        "    \n",
        "\n",
        "\n",
        "def append_to_file(values, filename):\n",
        "    \"\"\"Дописать данные в файл.\n",
        "\n",
        "    Параметры:\n",
        "        - values (list of float): список вещественных чисел;\n",
        "        - filename (str): имя файла.\n",
        "    \"\"\"\n",
        "    f = open(filename, \"a\")\n",
        "    f.write(str(sum(values)) + \"\\n\")\n",
        "    f.write(str(max(values)) + \"\\n\")\n",
        "    f.close()\n",
        "\n",
        "\n",
        "try:\n",
        "    filename = \"output1.txt\"\n",
        "    values = load_data(filename)\n",
        "    print(values)\n",
        "\n",
        "    # Удалите комментарий и допишите код\n",
        "    append_to_file(values, filename)\n",
        "\n",
        "except FileNotFoundError as err:\n",
        "    print(\"Указанный файл не существует.\")\n",
        "\n",
        "except IOError as err:\n",
        "    print(\"Ошибка при чтении/сохранении файла с данными:\", err)\n",
        "\n",
        "except Exception as err:\n",
        "    print(\"Произошла ошибка!\")\n",
        "    print(\"Тип:\", type(err))\n",
        "    print(\"Описание:\", err)\n"
      ],
      "metadata": {
        "colab": {
          "base_uri": "https://localhost:8080/"
        },
        "id": "_Ji86_Oui-_0",
        "outputId": "52cd2472-291c-421a-9967-902db842e7d4"
      },
      "execution_count": null,
      "outputs": [
        {
          "output_type": "stream",
          "name": "stdout",
          "text": [
            "[1.0, 3.0, 1.1, 5.0, 9.0, 5.0]\n"
          ]
        }
      ]
    },
    {
      "cell_type": "markdown",
      "source": [
        "# № 8.2.4"
      ],
      "metadata": {
        "id": "X6MUgQL1wU48"
      }
    },
    {
      "cell_type": "code",
      "source": [
        "             \n",
        "def load_text(filename):\n",
        "    \"\"\"Загрузить стихотворение из файла 'filename'.\n",
        "\n",
        "    Функция не обрабатывает исключения.\"\"\"\n",
        "    f = open(filename, \"r\")\n",
        "    txt = \"\"\n",
        "    for i in f:\n",
        "      txt += i\n",
        "    f.close()  \n",
        "    return txt.replace(\"\\n\", \" \")\n",
        "    \n",
        "\n",
        "\n",
        "def letters_stats(text):\n",
        "    \"\"\"Вернуть словарь, содержащий количество гласных/согласных букв.\n",
        "\n",
        "    Параметры:\n",
        "        - text (str): стихотворение.\n",
        "\n",
        "    Результат:\n",
        "        - dict: словарь, содержащий количество гласных/согласных букв:\n",
        "                    {\n",
        "                        \"гласные\": 10,\n",
        "                        \"согласные\": 11\n",
        "                    }\n",
        "    \"\"\"\n",
        "    text = text.split()\n",
        "    dictionary = {\n",
        "                        \"гласные\": 0,\n",
        "                        \"согласные\": 0\n",
        "                    }\n",
        "    a = \"ауоиэыяюеё\"\n",
        "    b = \"бвгджзйклмнпрстфхцчшщ\"\n",
        "    for i in text:\n",
        "      if i[0].lower() in a:\n",
        "        dictionary[\"гласные\"] += 1\n",
        "      elif i[0].lower() in b:\n",
        "        dictionary[\"согласные\"] += 1\n",
        "    return dictionary\n",
        "\n",
        "\n",
        "\n",
        "\n",
        "\n",
        "# Добавьте в код обработку исключений\n",
        "try:\n",
        "  filename = input(\"Введите имя файла: \")\n",
        "  text = load_text(filename)\n",
        "\n",
        "  stats = letters_stats(text)\n",
        "  print(stats)\n",
        "except FileNotFoundError as err:\n",
        "    print(\"Указанный файл не существует.\")\n",
        "\n",
        "except IOError as err:\n",
        "    print(\"Ошибка при чтении/сохранении файла с данными:\", err)\n",
        "\n",
        "except Exception as err:\n",
        "    print(\"Произошла ошибка!\")\n",
        "    print(\"Тип:\", type(err))\n",
        "    print(\"Описание:\", err)\n"
      ],
      "metadata": {
        "colab": {
          "base_uri": "https://localhost:8080/"
        },
        "id": "_W6hozsFqL69",
        "outputId": "cb0fcb34-9731-41dc-e293-87d861c17556"
      },
      "execution_count": null,
      "outputs": [
        {
          "output_type": "stream",
          "name": "stdout",
          "text": [
            "Введите имя файла: data.txt\n",
            "{'гласные': 8, 'согласные': 13}\n"
          ]
        }
      ]
    },
    {
      "cell_type": "markdown",
      "source": [
        "# № 8.2.5"
      ],
      "metadata": {
        "id": "ddT3gZwPxYO-"
      }
    },
    {
      "cell_type": "code",
      "source": [
        "class NoSuchSeatError(Exception):\n",
        "    def __init__(self, message):\n",
        "        super().__init__(message)\n",
        "\n",
        "\n",
        "def load_seats(filename):\n",
        "    \"\"\"Загрузить данные о местах в зале из файла 'filename'.\n",
        "\n",
        "    Результат: list of list вида:\n",
        "\n",
        "        [\n",
        "            [0, 0, 1],     # 1 ряд, первые 2 места свободны\n",
        "            [1, 1, 1, 1],  # 2 ряд, все места заняты\n",
        "            ...\n",
        "        ]\n",
        "\n",
        "    Функция не обрабатывает исключения.\"\"\"\n",
        "    f = open(filename, \"r\")\n",
        "    lst = []\n",
        "    for i in f:\n",
        "      lst.append(i)\n",
        "    f.close()\n",
        "    return lst\n",
        "\n",
        "\n",
        "\n",
        "def vacant_seats(seats):\n",
        "    \"\"\"Вернуть количество свободных мест в 'seats'.\n",
        "\n",
        "    Параметры:\n",
        "        - seats (list of list): данные из load_seats().\n",
        "\n",
        "    Результат:\n",
        "        - int: количество свободных мест.\n",
        "    \"\"\"\n",
        "    \n",
        "\n",
        "\n",
        "def is_seat_vacant(seats, n_p, m_p):\n",
        "    \"\"\"Вернуть True, если место свободно.\n",
        "\n",
        "    Параметры:\n",
        "        - seats (list of list): данные из load_seats();\n",
        "        - n_p (int): номер ряда (индексация с 0);\n",
        "        - m_p (int): номер места (индексация с 0).\n",
        "\n",
        "    Результат:\n",
        "        - True/False: место свободно/нет.\n",
        "\n",
        "    Исключения:\n",
        "        - NoSuchSeatError: если места с указанными параметрами не существует.\n",
        "    \"\"\"\n",
        "    # Удалите комментарий и допишите код\n",
        "\n",
        "\n",
        "# Добавьте в код обработку исключений\n",
        "\n",
        "filename = input(\"Введите имя файла: \")\n",
        "seats = load_seats(filename)\n",
        "\n",
        "count = vacant_seats(seats)\n",
        "print(\"Всего свободных мест: {}\".format(count))\n",
        "\n",
        "# Ввод значений для поиска\n",
        "# Учитывайте, что пользователь привык считать с 1, а не с 0,\n",
        "# поэтому введенные сообщения необходимо скорректировать\n",
        "n_p, m_p = [int(item) for item in\n",
        "            input(\"Введите ряд и место через пробел: \").split()]\n",
        "\n",
        "print(\"Место свободно:\",\n",
        "      \"Да\" if is_seat_vacant(seats, n_p - 1, m_p - 1) else \"Нет\")\n"
      ],
      "metadata": {
        "id": "f5EodWuexcz0"
      },
      "execution_count": null,
      "outputs": []
    },
    {
      "cell_type": "markdown",
      "source": [
        "# № 8.2.6"
      ],
      "metadata": {
        "id": "YHPBjNu7xhnU"
      }
    },
    {
      "cell_type": "code",
      "source": [
        "CORRUPTED = -1\n",
        "\n",
        "parties = {\n",
        "    1: \"Партия №1\", 2: \"Партия №2\", 3: \"Партия №3\",\n",
        "    4: \"Партия №4\", 5: \"Партия №5\", CORRUPTED: \"Испорчено\"\n",
        "}\n",
        "\n",
        "\n",
        "def load_votes(filename):\n",
        "    \"\"\"Загрузить результаты голосования.\n",
        "\n",
        "    Если отдельное значение не распознается (не является целым числом),\n",
        "    считается, что бланк испорчен (-1).\n",
        "\n",
        "    Параметры:\n",
        "        - filename (str): имя файла.\n",
        "\n",
        "    Результат:\n",
        "        - list of int\n",
        "\n",
        "    Функция не обрабатывает исключения.\"\"\"\n",
        "    f = open(filename, 'r')\n",
        "    b = f.readline().split()\n",
        "    f.close()\n",
        "    lst = []\n",
        "    for i in b:\n",
        "        if i.isdigit():\n",
        "            lst.append(int(i))\n",
        "        else:\n",
        "            lst.append(CORRUPTED)\n",
        "    return lst\n",
        "\n",
        "\n",
        "def parties_votes(parties, votes):\n",
        "    \"\"\"Вернуть информацию о голосах 'votes', отданных за партии 'parties'.\n",
        "    Испорченные бланки также присутствуют в результате.\n",
        "\n",
        "    Если среди голосов найдены партии, не присутствующие в списке\n",
        "    'parties', они записываются в группу \"Испорчено\".\n",
        "\n",
        "    Параметры:\n",
        "        - parties (dict): информация о партиях (номер голоса: название);\n",
        "        - votes (list): номера голосов.\n",
        "\n",
        "    Результат:\n",
        "        dict: название: кол-во отданных голосов.\"\"\"\n",
        "    dictionary = {}\n",
        "    for i in parties:\n",
        "        dictionary[parties[i]] = 0\n",
        "    for i in votes:\n",
        "        if i in parties:\n",
        "            dictionary[parties[i]] += 1\n",
        "        else:\n",
        "            dictionary['Испорчено'] += 1\n",
        "    return dictionary\n",
        "\n",
        "\n",
        "def print_results(votes_for_p):\n",
        "    \"\"\"Вывести результаты голосования в формате:\n",
        "\n",
        "    1. Партия №2 | 1111 | 58.21%\n",
        "    2. Партия №4 |  999 | 38.14%\n",
        "\n",
        "    Кол-во голосов и % выровнены по правому краю.\n",
        "\n",
        "    Параметры:\n",
        "        - votes_for_p (dict): результат функции parties_votes().\n",
        "    \"\"\"\n",
        "    new_sorted_dict = {}\n",
        "    a = sorted(votes_for_p.values(), reverse=True)\n",
        "    count = 0\n",
        "    for i in a:\n",
        "        for k in votes_for_p.keys():\n",
        "            if votes_for_p[k] == i:\n",
        "                new_sorted_dict[k] = votes_for_p[k]\n",
        "                if k != 'Испорчено':\n",
        "                    count += votes_for_p[k]\n",
        "                break\n",
        "    k = 1\n",
        "    for i in new_sorted_dict:\n",
        "        if i != 'Испорчено':\n",
        "            print(\n",
        "                '%3d.%10s | %4d | %5.2f' % (k, i, new_sorted_dict[i], round(100 * new_sorted_dict[i] / count, 2)) + '%')\n",
        "            k += 1\n",
        "\n",
        "\n",
        "try:\n",
        "    # Добавьте в код обработку исключений\n",
        "    filename = input()\n",
        "    votes = load_votes(filename)\n",
        "    votes_for_p = parties_votes(parties, votes)\n",
        "    print_results(votes_for_p)\n",
        "\n",
        "except FileNotFoundError as err:\n",
        "    print(\"Указанный файл не существует.\")\n",
        "\n",
        "except IOError as err:\n",
        "    print(\"Ошибка при чтении/сохранении файла с данными:\", err)\n",
        "\n",
        "except Exception as err:\n",
        "    print(\"Произошла ошибка!\")\n",
        "    print(\"Тип:\", type(err))\n",
        "    print(\"Описание:\", err)\n"
      ],
      "metadata": {
        "id": "6YhOrE7ixBIW",
        "colab": {
          "base_uri": "https://localhost:8080/"
        },
        "outputId": "97b1129c-443d-4c45-f2f3-1ab91124469b"
      },
      "execution_count": 1,
      "outputs": [
        {
          "output_type": "stream",
          "name": "stdout",
          "text": [
            "votes.txt\n",
            "  1. Партия №3 |   27 | 28.42%\n",
            "  2. Партия №1 |   22 | 23.16%\n",
            "  3. Партия №2 |   20 | 21.05%\n",
            "  4. Партия №5 |   14 | 14.74%\n",
            "  5. Партия №4 |   12 | 12.63%\n"
          ]
        }
      ]
    },
    {
      "cell_type": "markdown",
      "source": [],
      "metadata": {
        "id": "NQfi347Dx672"
      }
    }
  ]
}