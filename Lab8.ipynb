{
  "nbformat": 4,
  "nbformat_minor": 0,
  "metadata": {
    "colab": {
      "provenance": [],
      "authorship_tag": "ABX9TyMUPryElJtx/oBf5cNNUEBd",
      "include_colab_link": true
    },
    "kernelspec": {
      "name": "python3",
      "display_name": "Python 3"
    },
    "language_info": {
      "name": "python"
    }
  },
  "cells": [
    {
      "cell_type": "markdown",
      "metadata": {
        "id": "view-in-github",
        "colab_type": "text"
      },
      "source": [
        "<a href=\"https://colab.research.google.com/github/VoznesenskayaV/Osnovy_programming/blob/main/Lab8.ipynb\" target=\"_parent\"><img src=\"https://colab.research.google.com/assets/colab-badge.svg\" alt=\"Open In Colab\"/></a>"
      ]
    },
    {
      "cell_type": "code",
      "execution_count": 10,
      "metadata": {
        "colab": {
          "base_uri": "https://localhost:8080/"
        },
        "id": "ZaqfVtJzch3a",
        "outputId": "8bb8da1a-a9b5-49ee-b8d2-2487672d0974"
      },
      "outputs": [
        {
          "name": "stdout",
          "output_type": "stream",
          "text": [
            "1 2 3 4\n"
          ]
        }
      ],
      "source": [
        "\n",
        "def load_data():\n",
        "    \"\"\"Вернуть список вещественных чисел, введенных с клавиатуры.\n",
        "\n",
        "    Числа вводятся в одной строке.\"\"\"\n",
        "    a = list(map(float, input().split()))\n",
        "    return a  \n",
        "\n",
        "\n",
        "def save_data(values, filename):\n",
        "    \"\"\"Записать данные в файл.\n",
        "\n",
        "    Параметры:\n",
        "        - values (list of float): список вещественных чисел;\n",
        "        - filename (str): имя файла.\n",
        "\n",
        "    Функция не обрабатывает исключения.\n",
        "    \"\"\"\n",
        "    f = open(filename, 'w')\n",
        "    for i in values:\n",
        "      f.write(str(i) + \"\\n\")\n",
        "    f.close()\n",
        "\n",
        "\n",
        "try:\n",
        "    filename = \"output.txt\"\n",
        "    values = load_data()\n",
        "    save_data(values, filename)\n",
        "\n",
        "except ValueError as err:\n",
        "    print(\"Числа были введены с ошибкой.\")\n",
        "\n",
        "except (OSError, IOError) as err:\n",
        "    print(\"Ошибка при сохранении файла с данными:\", err)\n",
        "\n",
        "except Exception as err:\n",
        "    print(\"Произошла ошибка!\")\n",
        "    print(\"Тип:\", type(err))\n",
        "    print(\"Описание:\", err)\n"
      ]
    },
    {
      "cell_type": "code",
      "source": [
        "def load_data(filename):\n",
        "    \"\"\"Загрузить список вещественных чисел из файла 'filename'.\n",
        "\n",
        "    Функция не обрабатывает исключения.\"\"\"\n",
        "    f = open(filename, \"r\")\n",
        "    lst = []\n",
        "    for i in f:\n",
        "      lst.append(float(i))\n",
        "    f.close()\n",
        "    return lst\n",
        "      \n",
        "\n",
        "\n",
        "def append_to_file(values, filename):\n",
        "    \"\"\"Дописать данные в файл.\n",
        "\n",
        "    Параметры:\n",
        "        - values (list of float): список вещественных чисел;\n",
        "        - filename (str): имя файла.\n",
        "    \"\"\"\n",
        "    f = open(filename, \"a\")\n",
        "    f.write(str(sum(values)) + \"\\n\")\n",
        "    f.write(str(max(values)) + \"\\n\")\n",
        "    f.close()\n",
        "\n",
        "\n",
        "try:\n",
        "    filename = \"output.txt\"\n",
        "    values = load_data(filename)\n",
        "    \n",
        "\n",
        "    # Удалите комментарий и допишите код\n",
        "    append_to_file(values, filename)\n",
        "\n",
        "except FileNotFoundError as err:\n",
        "    print(\"Указанный файл не существует.\")\n",
        "\n",
        "except (IOError, ValueError) as err:\n",
        "    print(\"Ошибка при чтении/сохранении файла с данными:\", err)\n",
        "\n",
        "except Exception as err:\n",
        "    print(\"Произошла ошибка!\")\n",
        "    print(\"Тип:\", type(err))\n",
        "    print(\"Описание:\", err)\n"
      ],
      "metadata": {
        "colab": {
          "base_uri": "https://localhost:8080/"
        },
        "id": "vKidfes0gDxL",
        "outputId": "c521558b-f49a-4e19-fb14-befd621aa0e0"
      },
      "execution_count": 11,
      "outputs": [
        {
          "output_type": "stream",
          "name": "stdout",
          "text": [
            "[1.0, 2.0, 3.0, 4.0]\n"
          ]
        }
      ]
    },
    {
      "cell_type": "code",
      "source": [
        "def load_data(filename):\n",
        "    \"\"\"Загрузить список вещественных чисел из файла 'filename'.\n",
        "\n",
        "    Функция не обрабатывает исключения.\"\"\"\n",
        "    f = open(filename, \"r\")\n",
        "    lst = []\n",
        "    for i in f:\n",
        "      if i[0].isdigit():\n",
        "        for j in range(len(i)-1):\n",
        "          if i[j].isdigit() or i[j] == \".\":\n",
        "            pass\n",
        "          else:\n",
        "            break\n",
        "        else:\n",
        "          lst.append(float(i))\n",
        "    f.close()\n",
        "    return lst\n",
        "          \n",
        "\n",
        "    \n",
        "\n",
        "\n",
        "def append_to_file(values, filename):\n",
        "    \"\"\"Дописать данные в файл.\n",
        "\n",
        "    Параметры:\n",
        "        - values (list of float): список вещественных чисел;\n",
        "        - filename (str): имя файла.\n",
        "    \"\"\"\n",
        "    f = open(filename, \"a\")\n",
        "    f.write(str(sum(values)) + \"\\n\")\n",
        "    f.write(str(max(values)) + \"\\n\")\n",
        "    f.close()\n",
        "\n",
        "\n",
        "try:\n",
        "    filename = \"output1.txt\"\n",
        "    values = load_data(filename)\n",
        "    print(values)\n",
        "\n",
        "    # Удалите комментарий и допишите код\n",
        "    append_to_file(values, filename)\n",
        "\n",
        "except FileNotFoundError as err:\n",
        "    print(\"Указанный файл не существует.\")\n",
        "\n",
        "except IOError as err:\n",
        "    print(\"Ошибка при чтении/сохранении файла с данными:\", err)\n",
        "\n",
        "except Exception as err:\n",
        "    print(\"Произошла ошибка!\")\n",
        "    print(\"Тип:\", type(err))\n",
        "    print(\"Описание:\", err)\n"
      ],
      "metadata": {
        "colab": {
          "base_uri": "https://localhost:8080/"
        },
        "id": "_Ji86_Oui-_0",
        "outputId": "52cd2472-291c-421a-9967-902db842e7d4"
      },
      "execution_count": 19,
      "outputs": [
        {
          "output_type": "stream",
          "name": "stdout",
          "text": [
            "[1.0, 3.0, 1.1, 5.0, 9.0, 5.0]\n"
          ]
        }
      ]
    },
    {
      "cell_type": "code",
      "source": [
        "             \n",
        "def load_text(filename):\n",
        "    \"\"\"Загрузить стихотворение из файла 'filename'.\n",
        "\n",
        "    Функция не обрабатывает исключения.\"\"\"\n",
        "    f = open(filename, \"r\")\n",
        "    txt = \"\"\n",
        "    for i in f:\n",
        "      txt += i\n",
        "    f.close()  \n",
        "    return txt.replace(\"\\n\", \" \")\n",
        "    \n",
        "\n",
        "\n",
        "def letters_stats(text):\n",
        "    \"\"\"Вернуть словарь, содержащий количество гласных/согласных букв.\n",
        "\n",
        "    Параметры:\n",
        "        - text (str): стихотворение.\n",
        "\n",
        "    Результат:\n",
        "        - dict: словарь, содержащий количество гласных/согласных букв:\n",
        "                    {\n",
        "                        \"гласные\": 10,\n",
        "                        \"согласные\": 11\n",
        "                    }\n",
        "    \"\"\"\n",
        "    text = text.split()\n",
        "    dictionary = {\n",
        "                        \"гласные\": 0,\n",
        "                        \"согласные\": 0\n",
        "                    }\n",
        "    a = \"ауоиэыяюеё\"\n",
        "    b = \"бвгджзйклмнпрстфхцчшщ\"\n",
        "    for i in text:\n",
        "      if i[0].lower() in a:\n",
        "        dictionary[\"гласные\"] += 1\n",
        "      elif i[0].lower() in b:\n",
        "        dictionary[\"согласные\"] += 1\n",
        "    return dictionary\n",
        "\n",
        "\n",
        "\n",
        "\n",
        "\n",
        "# Добавьте в код обработку исключений\n",
        "try:\n",
        "  filename = input(\"Введите имя файла: \")\n",
        "  text = load_text(filename)\n",
        "\n",
        "  stats = letters_stats(text)\n",
        "  print(stats)\n",
        "except FileNotFoundError as err:\n",
        "    print(\"Указанный файл не существует.\")\n",
        "\n",
        "except IOError as err:\n",
        "    print(\"Ошибка при чтении/сохранении файла с данными:\", err)\n",
        "\n",
        "except Exception as err:\n",
        "    print(\"Произошла ошибка!\")\n",
        "    print(\"Тип:\", type(err))\n",
        "    print(\"Описание:\", err)\n"
      ],
      "metadata": {
        "colab": {
          "base_uri": "https://localhost:8080/"
        },
        "id": "_W6hozsFqL69",
        "outputId": "cb0fcb34-9731-41dc-e293-87d861c17556"
      },
      "execution_count": 21,
      "outputs": [
        {
          "output_type": "stream",
          "name": "stdout",
          "text": [
            "Введите имя файла: data.txt\n",
            "{'гласные': 8, 'согласные': 13}\n"
          ]
        }
      ]
    }
  ]
}