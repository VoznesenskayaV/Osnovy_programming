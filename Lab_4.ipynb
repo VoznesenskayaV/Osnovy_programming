{
  "nbformat": 4,
  "nbformat_minor": 0,
  "metadata": {
    "colab": {
      "provenance": [],
      "collapsed_sections": [],
      "authorship_tag": "ABX9TyP6gPKUg0VyvQqz6g2E/DPP",
      "include_colab_link": true
    },
    "kernelspec": {
      "name": "python3",
      "display_name": "Python 3"
    },
    "language_info": {
      "name": "python"
    }
  },
  "cells": [
    {
      "cell_type": "markdown",
      "metadata": {
        "id": "view-in-github",
        "colab_type": "text"
      },
      "source": [
        "<a href=\"https://colab.research.google.com/github/VoznesenskayaV/Osnovy_programming/blob/main/Lab_4.ipynb\" target=\"_parent\"><img src=\"https://colab.research.google.com/assets/colab-badge.svg\" alt=\"Open In Colab\"/></a>"
      ]
    },
    {
      "cell_type": "code",
      "execution_count": null,
      "metadata": {
        "id": "CGbrBeFD9VBn"
      },
      "outputs": [],
      "source": []
    },
    {
      "cell_type": "markdown",
      "source": [],
      "metadata": {
        "id": "W0xtloui9YI5"
      }
    },
    {
      "cell_type": "code",
      "source": [
        "\n",
        "\n",
        "\n",
        "x = float(input())\n",
        "\n",
        "if x>=0:\n",
        "    f = x**1/2+x**2\n",
        "else:\n",
        "    f =1 / x\n",
        "\n",
        "print(round(f,2))\n",
        "\n",
        "# --------------\n",
        "# Пример вывода:\n",
        "#\n",
        "# Введите число x: -10\n",
        "# f = -0.10\n",
        "\n",
        "# Введите число x: 0\n",
        "# f = 0.00\n",
        "\n",
        "# Введите число x: 10\n",
        "# f = 103.16\n"
      ],
      "metadata": {
        "colab": {
          "base_uri": "https://localhost:8080/"
        },
        "id": "ozxYV6E59gop",
        "outputId": "4c0c83cc-9f2e-45dc-834e-d96e4b803cc8"
      },
      "execution_count": null,
      "outputs": [
        {
          "output_type": "stream",
          "name": "stdout",
          "text": [
            "-10\n",
            "-0.1\n"
          ]
        }
      ]
    },
    {
      "cell_type": "markdown",
      "source": [
        "№ 4.2.1\n",
        "\n",
        "Рассчитать значение f при заданном значении вещественного числа x:![Рисунок1.png](data:image/png;base64,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)"
      ],
      "metadata": {
        "id": "yZ_FBwUv05vz"
      }
    },
    {
      "cell_type": "markdown",
      "source": [],
      "metadata": {
        "id": "7V5WubJFG2pI"
      }
    },
    {
      "cell_type": "markdown",
      "source": [
        "#№ 4.2.2\n",
        "\n",
        "Определите максимальное и минимальное значения из двух различных целых чисел."
      ],
      "metadata": {
        "id": "TMPI4s9sCPGz"
      }
    },
    {
      "cell_type": "code",
      "source": [
        "a1 = int(input())\n",
        "a2 = int(input())\n",
        "\n",
        "b = [a1,a2]\n",
        "a_min = min(b)\n",
        "a_max = max(b)\n",
        "print(\"Максимум :\",a_max)\n",
        "print(\"Минимум :\",a_min)\n",
        "\n",
        "# Удалите комментарий и допишите код\n",
        "\n",
        "# --------------\n",
        "# Пример вывода:\n",
        "#\n",
        "# Введите первое число: 1\n",
        "# Введите второе число: 2\n",
        "# Максимум: 2, минимум: 1\n",
        "\n",
        "# Введите первое число: 5\n",
        "# Введите второе число: 5\n",
        "# Максимум: 5, минимум: 5\n",
        "\n",
        "# Введите первое число: 100\n",
        "# Введите второе число: -1\n",
        "# Максимум: 100, минимум: -1\n"
      ],
      "metadata": {
        "colab": {
          "base_uri": "https://localhost:8080/"
        },
        "id": "dFLrQIZCCSwY",
        "outputId": "fe53854e-e0ad-485d-c48a-ddb21c5f838c"
      },
      "execution_count": null,
      "outputs": [
        {
          "output_type": "stream",
          "name": "stdout",
          "text": [
            "100\n",
            "-1\n",
            "Максимум : 100\n",
            "Минимум : -1\n"
          ]
        }
      ]
    },
    {
      "cell_type": "markdown",
      "source": [
        "#№ 4.2.3\n",
        "\n",
        "Вася пытается высунуть голову в форточку размерами a и b см. Приняв условно, что его голова - круглая диаметром d см, определите, сможет ли Вася сделать это. Для прохождения головы в форточку необходим зазор в 1 см. с каждой стороны.\n",
        "\n",
        "Все величины - целые числа."
      ],
      "metadata": {
        "id": "ef_ghLudHNsI"
      }
    },
    {
      "cell_type": "code",
      "source": [
        "a = int(input())\n",
        "b = int(input())\n",
        "d = int(input())\n",
        "\n",
        "# Введенные числа должны быть положительными, если так - осуществляем\n",
        "# расчет, иначе выводим \"Проверьте ввод\"\n",
        "if ((a-1>=d) and (b-1>=d)):\n",
        "    print(\"Да\")\n",
        "else:\n",
        "    print(\"Нет\")\n",
        "if ((a or b or d) < 0):\n",
        "    print('Проверьте ввод')\n",
        "\n",
        "# --------------\n",
        "# Пример вывода:\n",
        "#\n",
        "# Ширина форточки: 5\n",
        "# Высота форточки: 6\n",
        "# Диаметр головы: 6\n",
        "# Нет\n",
        "\n",
        "# Ширина форточки: 6\n",
        "# Высота форточки: 7\n",
        "# Диаметр головы: 4\n",
        "# Да\n"
      ],
      "metadata": {
        "colab": {
          "base_uri": "https://localhost:8080/"
        },
        "id": "0ExMhcvoHOnA",
        "outputId": "0ffdf04f-0399-4ac3-d475-41979522d73e"
      },
      "execution_count": null,
      "outputs": [
        {
          "output_type": "stream",
          "name": "stdout",
          "text": [
            "-1\n",
            "5\n",
            "1\n",
            "Нет\n",
            "Проверьте ввод\n"
          ]
        }
      ]
    },
    {
      "cell_type": "markdown",
      "source": [
        "#№ 4.2.4\n",
        "\n",
        "Известны год и номер месяца сегодняшнего дня, а также год и номер месяца рождения человека (нумерация месяцев с 1: январь - 1 и т.д.). Определите возраст человека (число полных лет)."
      ],
      "metadata": {
        "id": "0G2xNSbJKi_X"
      }
    },
    {
      "cell_type": "code",
      "source": [
        "year_today = int(input(\"Введите текущий год:\"))\n",
        "month_today = int(input(\"Введите текущий месяц:\"))\n",
        "\n",
        "year = int(input(\"Введите год рождения:\"))\n",
        "month = int(input(\"Введите месяц рождения:\"))\n",
        "age = year_today - year \n",
        "if (month_today or month)<=0:\n",
        "    print('Проверьте ввод.')\n",
        "else:\n",
        "    if month > month_today:\n",
        "        print('Полных лет:', age-1)\n",
        "    else:\n",
        "        print('Полных лет:', age)\n",
        "\n",
        "\n",
        "\n",
        "# --------------\n",
        "# Пример вывода:\n",
        "#\n",
        "# Введите текущий год: 2017\n",
        "# Введите текущий месяц: 5\n",
        "# Введите год рождения: 2000\n",
        "# Введите месяц рождения: 1\n",
        "# Число полных лет:  17\n",
        "#\n",
        "# Введите текущий год: 2015\n",
        "# Введите текущий месяц: 6\n",
        "# Введите год рождения: 2010\n",
        "# Введите месяц рождения: 8\n",
        "# Число полных лет:  4\n",
        "#\n",
        "# Введите текущий год: 2020\n",
        "# Введите текущий месяц: 5\n",
        "# Введите год рождения: 2000\n",
        "# Введите месяц рождения: 5\n",
        "# Число полных лет:  20\n",
        "\n"
      ],
      "metadata": {
        "colab": {
          "base_uri": "https://localhost:8080/"
        },
        "id": "op7UGd6WKoGg",
        "outputId": "2809d111-a660-41a3-a79d-997baae69da5"
      },
      "execution_count": null,
      "outputs": [
        {
          "output_type": "stream",
          "name": "stdout",
          "text": [
            "Введите текущий год:2020\n",
            "Введите текущий месяц:5\n",
            "Введите год рождения:2000\n",
            "Введите месяц рождения:5\n",
            "Полных лет: 20\n"
          ]
        }
      ]
    },
    {
      "cell_type": "markdown",
      "source": [
        "#№ 4.2.5\n",
        "\n",
        "Дана точка с целыми ненулевыми координатами (x;y). Определить номер четверти координатной плоскости, которой она принадлежит."
      ],
      "metadata": {
        "id": "fODmaQCnM9kX"
      }
    },
    {
      "cell_type": "code",
      "source": [
        "x = int(input(\"Введите координату x:\"))\n",
        "y = int(input(\"Введите координату y:\"))\n",
        "\n",
        "if x > 0 and y > 0: \n",
        "    print(\"1-я четверть\")\n",
        "elif x < 0 and y > 0:\n",
        "    print(\"2-я четверть\")\n",
        "elif x < 0 and y < 0:\n",
        "    print(\"3-я четверть\")\n",
        "elif x > 0 and y < 0:\n",
        "    print(\"4-я четверть\")\n",
        "elif x == 0 or y == 0:\n",
        "    print(\"Точка находится на одной из осей\")\n",
        "\n",
        "\n",
        "# --------------\n",
        "# Пример вывода:\n",
        "#\n",
        "# Введите координату x: 5\n",
        "# Введите координату y: 7\n",
        "# 1-я четверть\n"
      ],
      "metadata": {
        "colab": {
          "base_uri": "https://localhost:8080/"
        },
        "id": "axMpX75nNCD-",
        "outputId": "65bf4fda-a0da-4a5a-ae75-d70fed704abe"
      },
      "execution_count": null,
      "outputs": [
        {
          "output_type": "stream",
          "name": "stdout",
          "text": [
            "Введите координату x:5\n",
            "Введите координату y:7\n",
            "1-я четверть\n"
          ]
        }
      ]
    },
    {
      "cell_type": "markdown",
      "source": [
        "#№ 4.2.6\n",
        "\n",
        "Даны вещественные числа a, b, c (a≠0).\n",
        "\n",
        "Решите уравнение ax2+bx+c=0. При выводе значений оставьте 1 знак после запятой."
      ],
      "metadata": {
        "id": "xVISxoLEO5WA"
      }
    },
    {
      "cell_type": "code",
      "source": [
        "a = float(input(\"a=\"))\n",
        "b = float(input(\"b=\"))\n",
        "c = float(input(\"c=\"))\n",
        "\n",
        "d = ((b**2)-(4*a*c))\n",
        "if d>0:\n",
        "  x1 = (((-1*b)-(d**(1/2)))/2*a)\n",
        "  x2 = (((-1*b)+(d**(1/2)))/2*a)\n",
        "  print(x1,x2)\n",
        "elif d==0:\n",
        "  x1 = ((-1*b)/2*a)\n",
        "  print(x1)\n",
        "elif d<0:\n",
        "  print(\"Решений нет\")\n",
        "\n",
        "\n",
        "# --------------\n",
        "# Пример вывода:\n",
        "#\n",
        "# a = 1\n",
        "# b = 2\n",
        "# c = 3\n",
        "# Решений нет\n",
        "#\n",
        "# a = 1\n",
        "# b = 2\n",
        "# c = 1\n",
        "# x = -1.0\n",
        "#\n",
        "# a = 1\n",
        "# b = 3\n",
        "# c = -4\n",
        "# x1 = -4.0, x2 = 1.0\n",
        "\n"
      ],
      "metadata": {
        "colab": {
          "base_uri": "https://localhost:8080/"
        },
        "id": "VQAIHrkCO9hQ",
        "outputId": "24322675-3508-469c-c49d-f303ca498334"
      },
      "execution_count": null,
      "outputs": [
        {
          "output_type": "stream",
          "name": "stdout",
          "text": [
            "a=1\n",
            "b=3\n",
            "c=-4\n",
            "-4.0 1.0\n"
          ]
        }
      ]
    },
    {
      "cell_type": "markdown",
      "source": [
        "#№ 4.2.7\n",
        "\n",
        "Дана непустая последовательность целых чисел, оканчивающаяся нулем. Найти сумму и количество введенных чисел."
      ],
      "metadata": {
        "id": "D9V2cjicYmHt"
      }
    },
    {
      "cell_type": "code",
      "source": [
        "nums_sum = 0  # сумма\n",
        "nums_count = 0  # количество\n",
        "\n",
        "x = int(input('Введите число. '))\n",
        "с = []\n",
        "\n",
        "while x != 0:\n",
        "    nums_count = nums_count+1\n",
        "    a.append(x)\n",
        "    nums_sum = nums_sum+x\n",
        "    x = int(input('Введите число. '))\n",
        "\n",
        "print(nums_sum)\n",
        "print(nums_count)\n",
        "\n",
        "# --------------\n",
        "# Пример вывода:\n",
        "#\n",
        "# Введите 1-е число: 1\n",
        "# Введите 2-е число: 2\n",
        "# Введите 3-е число: 3\n",
        "# Введите 4-е число: 4\n",
        "# Введите 5-е число: 0\n",
        "# Сумма = 10\n",
        "# Количество = 4\n",
        "#\n",
        "# Введите 1-е число: 0\n",
        "# Сумма = 0\n",
        "# Количество = 0\n",
        "\n"
      ],
      "metadata": {
        "colab": {
          "base_uri": "https://localhost:8080/"
        },
        "id": "jO9M2iOPYpT9",
        "outputId": "9702ba7f-be56-4998-8e0a-b8adeae2018e"
      },
      "execution_count": null,
      "outputs": [
        {
          "output_type": "stream",
          "name": "stdout",
          "text": [
            "Введите число. 1\n",
            "Введите число. 2\n",
            "Введите число. 3\n",
            "Введите число. 4\n",
            "Введите число. 0\n",
            "10\n",
            "4\n"
          ]
        }
      ]
    },
    {
      "cell_type": "markdown",
      "source": [
        "#№ 4.2.8\n",
        "\n",
        "Дано число n. Из чисел 0,5,10,15,20,25,... напечатать те, которые не превышают n."
      ],
      "metadata": {
        "id": "YtXOieMq1fwD"
      }
    },
    {
      "cell_type": "code",
      "source": [
        "n = int(input())\n",
        "a = 0\n",
        "print(\"0\")\n",
        "\n",
        "while a<=n:\n",
        "    a = a+5 # числа увеличиваются на 5\n",
        "    if a<n:\n",
        "      print(a)\n",
        "    else:\n",
        "      break\n",
        "    \n",
        "# --------------\n",
        "# Пример вывода:\n",
        "#\n",
        "# n = 0\n",
        "# 0\n",
        "#\n",
        "# n = 10\n",
        "# 0\n",
        "# 5\n",
        "# 10\n",
        "#\n",
        "# n = 12\n",
        "# 0\n",
        "# 5\n",
        "# 10\n"
      ],
      "metadata": {
        "colab": {
          "base_uri": "https://localhost:8080/"
        },
        "id": "rSPJAaYW1kSq",
        "outputId": "eba0dce6-2912-415d-d191-3ab9653e2616"
      },
      "execution_count": null,
      "outputs": [
        {
          "output_type": "stream",
          "name": "stdout",
          "text": [
            "12\n",
            "0\n",
            "5\n",
            "10\n"
          ]
        }
      ]
    },
    {
      "cell_type": "markdown",
      "source": [
        "#№ 4.2.9\n",
        "\n",
        "Дано вещественное число a. Найдите наименьшее натуральное n, для которого верно![Рисунок3.png](data:image/png;base64,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)"
      ],
      "metadata": {
        "id": "XwE2TJLq3hij"
      }
    },
    {
      "cell_type": "code",
      "source": [
        "a = float(input())\n",
        "\n",
        "n = 1 # n-натуральное число\n",
        "\n",
        "x_sum = list()\n",
        "x_sum.append(n)\n",
        "while sum(x_sum)<=a:\n",
        "    n = n+1\n",
        "    b = 1/n\n",
        "    x_sum.append(b) \n",
        "print(n)\n",
        "\n",
        "# Удалите комментарий и допишите код\n",
        "\n",
        "# --------------\n",
        "# Пример вывода:\n",
        "#\n",
        "# a = 1.5\n",
        "# n = 3\n",
        "#\n",
        "# a = 2\n",
        "# n = 4\n"
      ],
      "metadata": {
        "colab": {
          "base_uri": "https://localhost:8080/"
        },
        "id": "GXJZVpD_3yPq",
        "outputId": "3972f7e9-4220-4289-eaba-e802908f74c1"
      },
      "execution_count": null,
      "outputs": [
        {
          "output_type": "stream",
          "name": "stdout",
          "text": [
            "2\n",
            "4\n"
          ]
        }
      ]
    },
    {
      "cell_type": "markdown",
      "source": [
        "#№ 4.2.10\n",
        "\n",
        "Дано натуральное число. Определите сумму и количество его цифр."
      ],
      "metadata": {
        "id": "9OXu6XUFTKde"
      }
    },
    {
      "cell_type": "code",
      "source": [
        "n = list(map(int, input())) # создаем список (list) и используем map, чтобы использовать все введенные элементы\n",
        "\n",
        "n_sum = sum(n) # сложение элементов списка\n",
        "n_count = len(n) # длина списка (количество элементов)\n",
        "\n",
        "print('Сумма ', n_sum)\n",
        "print('Количество ', n_count)\n",
        "\n",
        "# --------------\n",
        "# Пример вывода:\n",
        "#\n",
        "# n = 12345\n",
        "# Сумма = 15\n",
        "# Количество = 5\n"
      ],
      "metadata": {
        "colab": {
          "base_uri": "https://localhost:8080/"
        },
        "id": "DVCkM7pATMtv",
        "outputId": "3a0dc2f7-3bcf-44b8-f571-0e77050988a3"
      },
      "execution_count": null,
      "outputs": [
        {
          "output_type": "stream",
          "name": "stdout",
          "text": [
            "12345\n",
            "Сумма  15\n",
            "Количество  5\n"
          ]
        }
      ]
    },
    {
      "cell_type": "markdown",
      "source": [
        "#№ 4.2.11\n",
        "\n",
        "Вывести в строку 10 первых натуральных чисел, оканчивающихся на цифру k, кратных числу s и находящихся в интервале, левая граница которого равна start."
      ],
      "metadata": {
        "id": "CwMUdaGbZ_lu"
      }
    },
    {
      "cell_type": "code",
      "source": [
        "start = int(input()) # Начало\n",
        "k = int(input()) # Последняя цифра числа\n",
        "s = int(input()) \n",
        "numbers = list()\n",
        "\n",
        "while start%s!=0: \n",
        "    start = start + 1\n",
        "else:\n",
        "    for i in range(100):\n",
        "        start = start + 1\n",
        "        while start%s!=0:\n",
        "            start = start + 1\n",
        "        else:\n",
        "            if start%10==k:\n",
        "                numbers.append(start)\n",
        "\n",
        "print(numbers[:10])\n",
        "\n",
        "# --------------\n",
        "# Пример вывода:\n",
        "#\n",
        "# start = 100\n",
        "# k = 7\n",
        "# s = 9\n",
        "# 117 207 297 387 477 567 657 747 837 927\n"
      ],
      "metadata": {
        "colab": {
          "base_uri": "https://localhost:8080/"
        },
        "id": "_oCok_q5aCVE",
        "outputId": "697418dc-1c68-49e8-c4b3-788a2afc7d1f"
      },
      "execution_count": null,
      "outputs": [
        {
          "output_type": "stream",
          "name": "stdout",
          "text": [
            "100\n",
            "7\n",
            "9\n",
            "[117, 207, 297, 387, 477, 567, 657, 747, 837, 927]\n"
          ]
        }
      ]
    },
    {
      "cell_type": "markdown",
      "source": [
        "#№ 4.2.12\n",
        "\n",
        "Даны целые числа a и b (a может быть больше b). Напечатайте:\n",
        "\n",
        "числа от минимального до максимального в строчку (разделяя пробелом);\n",
        "\n",
        "числа от максимального до минимального «столбиком»."
      ],
      "metadata": {
        "id": "Hz4HuDPUig43"
      }
    },
    {
      "cell_type": "code",
      "source": [
        "a = int(input())\n",
        "b = int(input())\n",
        "\n",
        "numbers = list(range(a,b+1))\n",
        "print(numbers)\n",
        "\n",
        "numbers.reverse()\n",
        "print(\"\\n\".join(map(str, numbers)))\n",
        "\n",
        "# Удалите комментарий и допишите код\n",
        "\n",
        "# --------------\n",
        "# Пример вывода:\n",
        "#\n",
        "# a = 1\n",
        "# b = 5\n",
        "# 1 2 3 4 5\n",
        "# 5\n",
        "# 4\n",
        "# 3\n",
        "# 2\n",
        "# 1\n"
      ],
      "metadata": {
        "colab": {
          "base_uri": "https://localhost:8080/"
        },
        "id": "Gv7efgoBinNS",
        "outputId": "73923b29-706d-4985-9739-7c63a7d00cbf"
      },
      "execution_count": null,
      "outputs": [
        {
          "output_type": "stream",
          "name": "stdout",
          "text": [
            "1\n",
            "5\n",
            "[1, 2, 3, 4, 5]\n",
            "5\n",
            "4\n",
            "3\n",
            "2\n",
            "1\n"
          ]
        }
      ]
    },
    {
      "cell_type": "markdown",
      "source": [],
      "metadata": {
        "id": "0Yih0NIn4cLs"
      }
    },
    {
      "cell_type": "markdown",
      "source": [
        "#№ 4.2.15\n",
        "\n",
        "Известна масса каждого предмета в кг., загружаемого в грузовик. Определить, возможна ли перевозка груза, если грузоподъемность грузовика равна p кг."
      ],
      "metadata": {
        "id": "suurKIazmVJD"
      }
    },
    {
      "cell_type": "code",
      "source": [
        "p = int(input('Грузоподъемность грузовика '))\n",
        "n = int(input('Количество предметов '))\n",
        "\n",
        "lst = list() \n",
        "for i in range(n):\n",
        "    x = int(input('Масса предмета '))\n",
        "    lst.append(x)\n",
        "\n",
        "if sum(lst)>=p: \n",
        "    print('Нет')\n",
        "else:\n",
        "    print('Да')\n",
        "\n",
        "# --------------\n",
        "# Пример вывода:\n",
        "#\n",
        "# Грузоподъемность грузовика (кг.) = 10\n",
        "# Количество предметов = 2\n",
        "# Масса 1-го предмета (кг.) = 3\n",
        "# Масса 2-го предмета (кг.) = 3\n",
        "# Да\n"
      ],
      "metadata": {
        "colab": {
          "base_uri": "https://localhost:8080/"
        },
        "id": "j1GjBWeumZtD",
        "outputId": "53effa98-d532-485c-aaf7-4f6be727ac78"
      },
      "execution_count": null,
      "outputs": [
        {
          "output_type": "stream",
          "name": "stdout",
          "text": [
            "Грузоподъемность грузовика 10\n",
            "Количество предметов 2\n",
            "Масса предмета 3\n",
            "Масса предмета 3\n",
            "Да\n"
          ]
        }
      ]
    },
    {
      "cell_type": "markdown",
      "source": [
        "#№ 4.2.16\n",
        "\n",
        "В области несколько районов. Заданы площади, засеваемые пшеницей (га.), и средняя урожайность (ц/га) в каждом районе.\n",
        "\n",
        "Определите количество пшеницы, собранное по области. При выводе вещественных результатов оставьте один знак после запятой."
      ],
      "metadata": {
        "id": "iNFpKD5vp1BD"
      }
    },
    {
      "cell_type": "code",
      "source": [
        "n = int(input('Количество районов '))\n",
        "\n",
        "lst = list() \n",
        "for i in range(n):\n",
        "    s = float(input('Площадь района ')) \n",
        "    b = float(input('Урожайность в районе ')) \n",
        "    m = b*s\n",
        "    lst.append(m)\n",
        "\n",
        "print(round(sum(lst), 1))\n",
        "\n",
        "# --------------\n",
        "# Пример вывода:\n",
        "#\n",
        "# Количество районов = 3\n",
        "# Площадь 1-го района (га) = 4\n",
        "# Урожайность в 1-м районе (ц/га.) = 2\n",
        "# Площадь 2-го района (га) = 7\n",
        "# Урожайность в 2-м районе (ц/га.) = 3\n",
        "# Площадь 3-го района (га) = 9\n",
        "# Урожайность в 3-м районе (ц/га.) = 4\n",
        "# Собрано пшеницы: 65.0 ц."
      ],
      "metadata": {
        "colab": {
          "base_uri": "https://localhost:8080/"
        },
        "id": "6s0olC8OqENj",
        "outputId": "47adc8d5-77b1-4054-c259-96298d38ff0f"
      },
      "execution_count": null,
      "outputs": [
        {
          "output_type": "stream",
          "name": "stdout",
          "text": [
            "Количество районов 3\n",
            "Площадь района 4\n",
            "Урожайность в районе 2\n",
            "Площадь района 7\n",
            "Урожайность в районе 3\n",
            "Площадь района 9\n",
            "Урожайность в районе 4\n",
            "65.0\n"
          ]
        }
      ]
    },
    {
      "cell_type": "markdown",
      "source": [
        "#№ 4.2.17\n",
        "Решите задачу № 4.2.7, организовав бесконечный цикл, который бы прерывался при выполнении условия, используя оператор break.\n",
        "\n",
        "№ 4.2.7\n",
        "\n",
        "Дана непустая последовательность целых чисел, оканчивающаяся нулем. Найти сумму и количество введенных чисел."
      ],
      "metadata": {
        "id": "Cf1qAW6MrQT9"
      }
    },
    {
      "cell_type": "code",
      "source": [
        "nums_sum = 0  # сумма\n",
        "nums_count = 0  # количество\n",
        "\n",
        "a = int(input())\n",
        "lst = list()\n",
        "\n",
        "while x!=0:\n",
        "    nums_count = nums_count+1\n",
        "    lst.append(a)\n",
        "    nums_sum = nums_sum+a\n",
        "    a = int(input())\n",
        "    if a==0:\n",
        "        break\n",
        "\n",
        "print('Сумма = ', nums_sum)\n",
        "print('Количество = ',nums_count)\n",
        "\n",
        "# --------------\n",
        "# Пример вывода:\n",
        "#\n",
        "# Введите 1-е число: 1\n",
        "# Введите 2-е число: 2\n",
        "# Введите 3-е число: 3\n",
        "# Введите 4-е число: 4\n",
        "# Введите 5-е число: 0\n",
        "# Сумма = 10\n",
        "# Количество = 4\n",
        "#\n",
        "# Введите 1-е число: 0\n",
        "# Сумма = 0\n",
        "# Количество = 0\n"
      ],
      "metadata": {
        "colab": {
          "base_uri": "https://localhost:8080/"
        },
        "id": "ALQ0Jwjnrfej",
        "outputId": "c4417181-5771-4e29-e28c-5715d7a0b67f"
      },
      "execution_count": null,
      "outputs": [
        {
          "output_type": "stream",
          "name": "stdout",
          "text": [
            "1\n",
            "2\n",
            "3\n",
            "4\n",
            "0\n",
            "Сумма =  10\n",
            "Количество =  4\n"
          ]
        }
      ]
    },
    {
      "cell_type": "markdown",
      "source": [
        "#№ 4.2.19\n",
        "\n",
        "Выведите на экран (в строку) все целые числа от a до b, кратные некоторому числу c."
      ],
      "metadata": {
        "id": "35uY7M20tV6D"
      }
    },
    {
      "cell_type": "code",
      "source": [
        "a = int(input())\n",
        "b = int(input())\n",
        "c = int(input())\n",
        "\n",
        "lst = list()\n",
        "\n",
        "for i in range(a,b+1):\n",
        "    if i%c==0:\n",
        "        lst.append(i)\n",
        "\n",
        "print(lst)\n",
        "\n",
        "\n",
        "# --------------\n",
        "# Пример вывода:\n",
        "#\n",
        "# a = 1\n",
        "# b = 10\n",
        "# c = 2\n",
        "# 2 4 6 8 10"
      ],
      "metadata": {
        "colab": {
          "base_uri": "https://localhost:8080/"
        },
        "id": "KQB5nGjctW0y",
        "outputId": "4e694ea2-08bb-4b46-d893-0dec0ab7ad12"
      },
      "execution_count": null,
      "outputs": [
        {
          "output_type": "stream",
          "name": "stdout",
          "text": [
            "1\n",
            "10\n",
            "2\n",
            "[2, 4, 6, 8, 10]\n"
          ]
        }
      ]
    },
    {
      "cell_type": "markdown",
      "source": [
        "# № 4.2.20\n",
        "\n",
        "Выведите на экран (в строку) все трехзначные натуральные числа, сумма цифр которых равна целому числу n (0<n≤27).\n",
        "\n"
      ],
      "metadata": {
        "id": "X5x52GFWuXY9"
      }
    },
    {
      "cell_type": "code",
      "source": [
        "n = int(input())\n",
        "lst = list()\n",
        "for i in range(100,1000): # все трехзначные числа\n",
        "  a = (i//100) # первая цифра числа i\n",
        "  b = ((i%100)//10) # вторая цифра числа i\n",
        "  c = (i%10) # третья цифра числа i\n",
        "  s = (a+b+c) # сумма цифр\n",
        "  if s == n:\n",
        "    lst.append(i)\n",
        "print(lst)\n",
        "\n",
        "# Удалите комментарий и допишите код\n",
        "\n",
        "# --------------\n",
        "# Пример вывода:\n",
        "#\n",
        "# n = 3\n",
        "# 102 111 120 201 210 300\n",
        "\n"
      ],
      "metadata": {
        "colab": {
          "base_uri": "https://localhost:8080/"
        },
        "id": "YxKsp5Ohua2a",
        "outputId": "dcb1c6c2-889e-4538-ff32-a86f007909a9"
      },
      "execution_count": null,
      "outputs": [
        {
          "output_type": "stream",
          "name": "stdout",
          "text": [
            "3\n",
            "[102, 111, 120, 201, 210, 300]\n"
          ]
        }
      ]
    },
    {
      "cell_type": "markdown",
      "source": [
        "# № 4.2.21\n",
        "\n",
        "Известно количество учеников в классе и их рост (см.); рост мальчиков условно задан отрицательными числами. Определите средний рост мальчиков и средний рост девочек.\n",
        "\n",
        "При выводе вещественных результатов оставьте один знак после запятой."
      ],
      "metadata": {
        "id": "DUDchwwV-BSH"
      }
    },
    {
      "cell_type": "code",
      "source": [
        "n = int(input()) # Количество учеников\n",
        "\n",
        "rost_m = 0 # рост мальчиков\n",
        "rost_d = 0 # рост девочек\n",
        "d = 0 #  количество девочек\n",
        "m = 0 # количество мальчиков\n",
        "sd = list()\n",
        "sm = list()\n",
        "\n",
        "for i in range(n):\n",
        "  rost = int(input(\"Введите рост \"))\n",
        "  if rost > 0:\n",
        "    d = d+1\n",
        "    sd.append(rost)\n",
        "    s = sum(sd)\n",
        "  elif rost < 0:\n",
        "    m = m+1\n",
        "    sm.append(rost)\n",
        "    b = sum(sm)\n",
        "\n",
        "r_sr_m = -(b/m)\n",
        "r_sr_d = s/d\n",
        "\n",
        "print(\"Средний рост мальчиков: {:.1f}\".format(r_sr_m))\n",
        "print(\"Средний рост девочек: {:.1f}\".format(r_sr_d))\n",
        "\n",
        "# --------------\n",
        "# Пример вывода:\n",
        "#\n",
        "# n = 5\n",
        "# Рост 1-го ученика = 150\n",
        "# Рост 2-го ученика = -150\n",
        "# Рост 3-го ученика = 160\n",
        "# Рост 4-го ученика = 170\n",
        "# Рост 5-го ученика = 180\n",
        "# Средний рост мальчиков: 150.0\n",
        "# Средний рост девочек: 165.0\n"
      ],
      "metadata": {
        "colab": {
          "base_uri": "https://localhost:8080/"
        },
        "id": "vOx1DxZl-CDu",
        "outputId": "d6236bb6-d68d-4e7c-d5f9-faf4b30e59af"
      },
      "execution_count": null,
      "outputs": [
        {
          "output_type": "stream",
          "name": "stdout",
          "text": [
            "5\n",
            "Введите рост 150\n",
            "Введите рост -150\n",
            "Введите рост 160\n",
            "Введите рост 170\n",
            "Введите рост 180\n",
            "Средний рост мальчиков: 150.0\n",
            "Средний рост девочек: 165.0\n"
          ]
        }
      ]
    },
    {
      "cell_type": "markdown",
      "source": [
        "# № 4.2.22\n",
        "\n",
        "Даны n вещественных чисел. Определите максимальное и минимальное из них.\n",
        "\n",
        "При выводе вещественных результатов оставьте два знака после запятой."
      ],
      "metadata": {
        "id": "lBNqc59JFV43"
      }
    },
    {
      "cell_type": "code",
      "source": [
        "# !!! Код не работает в коллабе\n",
        "\n",
        "n = int(input()) # кол-во чисел \n",
        "b = list()\n",
        "\n",
        "for i in range(n):\n",
        "  v = float(input())\n",
        "  b.append(v)\n",
        "\n",
        "a_max = max(b)\n",
        "a_min = min(b)\n",
        "\n",
        "\n",
        "print(\"Максимум: {:.2f}\".format(a_max))\n",
        "print(\"Минимум: {:.2f}\".format(a_min))\n",
        "\n",
        "# --------------\n",
        "# Пример вывода:\n",
        "#\n",
        "# n = 4\n",
        "# 1-е число = 6.2\n",
        "# 2-е число = 3.8\n",
        "# 3-е число = 1.1\n",
        "# 4-е число = 9.66\n",
        "# Максимум: 9.66\n",
        "# Минимум: 1.10\n"
      ],
      "metadata": {
        "colab": {
          "base_uri": "https://localhost:8080/",
          "height": 321
        },
        "id": "Mmkzn0doFW7V",
        "outputId": "63db7dff-02e0-4cd8-d77c-31459f6920cb"
      },
      "execution_count": null,
      "outputs": [
        {
          "name": "stdout",
          "output_type": "stream",
          "text": [
            "4\n",
            "6.2\n",
            "3.8\n",
            "1.1\n",
            "9.66\n"
          ]
        },
        {
          "output_type": "error",
          "ename": "TypeError",
          "evalue": "ignored",
          "traceback": [
            "\u001b[0;31m---------------------------------------------------------------------------\u001b[0m",
            "\u001b[0;31mTypeError\u001b[0m                                 Traceback (most recent call last)",
            "\u001b[0;32m<ipython-input-13-602f08098e53>\u001b[0m in \u001b[0;36m<module>\u001b[0;34m\u001b[0m\n\u001b[1;32m      6\u001b[0m   \u001b[0mb\u001b[0m\u001b[0;34m.\u001b[0m\u001b[0mappend\u001b[0m\u001b[0;34m(\u001b[0m\u001b[0mv\u001b[0m\u001b[0;34m)\u001b[0m\u001b[0;34m\u001b[0m\u001b[0;34m\u001b[0m\u001b[0m\n\u001b[1;32m      7\u001b[0m \u001b[0;34m\u001b[0m\u001b[0m\n\u001b[0;32m----> 8\u001b[0;31m \u001b[0ma_max\u001b[0m \u001b[0;34m=\u001b[0m \u001b[0mmax\u001b[0m\u001b[0;34m(\u001b[0m\u001b[0mb\u001b[0m\u001b[0;34m)\u001b[0m\u001b[0;34m\u001b[0m\u001b[0;34m\u001b[0m\u001b[0m\n\u001b[0m\u001b[1;32m      9\u001b[0m \u001b[0ma_min\u001b[0m \u001b[0;34m=\u001b[0m \u001b[0mmin\u001b[0m\u001b[0;34m(\u001b[0m\u001b[0mb\u001b[0m\u001b[0;34m)\u001b[0m\u001b[0;34m\u001b[0m\u001b[0;34m\u001b[0m\u001b[0m\n\u001b[1;32m     10\u001b[0m \u001b[0;34m\u001b[0m\u001b[0m\n",
            "\u001b[0;31mTypeError\u001b[0m: 'float' object is not callable"
          ]
        }
      ]
    },
    {
      "cell_type": "markdown",
      "source": [
        "# № 4.2.28\n",
        "Составьте программу для нахождения всех натуральных решений уравнения x2+y2+z2=k2, где x,y,z∈[1,30], а k вводится с клавиатуры."
      ],
      "metadata": {
        "id": "4M-O856udWVq"
      }
    },
    {
      "cell_type": "code",
      "source": [
        "k = int(input('Введите целое число: '))\n",
        "\n",
        "for x in range(1, 31):\n",
        "    for y in range(1, 31):\n",
        "        for z in range(1, 31):\n",
        "            if x*x+y*y+z*z==k*k:\n",
        "                print(x,y,z)\n",
        "\n",
        "# --------------\n",
        "# Пример вывода:\n",
        "#\n",
        "# k = 30\n",
        "# x =  4, y = 10, z = 28\n",
        "# x =  4, y = 20, z = 22\n",
        "# x =  4, y = 22, z = 20\n",
        "# x =  4, y = 28, z = 10\n",
        "# x = 10, y =  4, z = 28\n",
        "# x = 10, y = 20, z = 20\n",
        "# x = 10, y = 28, z =  4\n",
        "# x = 20, y =  4, z = 22\n",
        "# x = 20, y = 10, z = 20\n",
        "# x = 20, y = 20, z = 10\n",
        "# x = 20, y = 22, z =  4\n",
        "# x = 22, y =  4, z = 20\n",
        "# x = 22, y = 20, z =  4\n",
        "# x = 28, y =  4, z = 10\n",
        "# x = 28, y = 10, z =  4"
      ],
      "metadata": {
        "colab": {
          "base_uri": "https://localhost:8080/"
        },
        "id": "IZKhQAVFdWsB",
        "outputId": "46d53fd9-7777-4697-d245-dc5ee50c3be9"
      },
      "execution_count": null,
      "outputs": [
        {
          "output_type": "stream",
          "name": "stdout",
          "text": [
            "Введите целое число: 30\n",
            "4 10 28\n",
            "4 20 22\n",
            "4 22 20\n",
            "4 28 10\n",
            "10 4 28\n",
            "10 20 20\n",
            "10 28 4\n",
            "20 4 22\n",
            "20 10 20\n",
            "20 20 10\n",
            "20 22 4\n",
            "22 4 20\n",
            "22 20 4\n",
            "28 4 10\n",
            "28 10 4\n"
          ]
        }
      ]
    },
    {
      "cell_type": "markdown",
      "source": [
        "# № 4.2.30\n",
        "\n",
        "Дан список целых чисел, введенных с клавиатуры (длина неизвестна). Ответьте на вопросы:\n",
        "\n",
        "являются ли все элементы положительными числами?\n",
        "\n",
        "есть ли хотя бы один нулевой элемент в списке?\n",
        "\n",
        "являются ли все элементы четными числами?\n",
        "\n",
        "есть ли хотя бы один нечетный элемент в списке?\n",
        "\n",
        " Каждый из пунктов выполните дважды: используя стандартный проход в цикле (например, через алгоритм с флажком), и используя функции any() и/или all()."
      ],
      "metadata": {
        "id": "IKV-49HSDKn6"
      }
    },
    {
      "cell_type": "code",
      "source": [
        "# Все разделенные пробелом элементы будут преобразованы в список целых чисел\n",
        "nums = [int(item) for item in input().split()]\n",
        "\n",
        "# 1. Все положительные\n",
        "for item in nums:\n",
        "    if item <= 0:\n",
        "        all_pos_1 = False\n",
        "        break\n",
        "else:\n",
        "    all_pos_1 = True\n",
        "\n",
        "all_pos_2 = all([item > 0 for item in nums])\n",
        "\n",
        "# 2. Хотя бы 1 нулевой элемент\n",
        "for item in nums:\n",
        "    if item == 0:\n",
        "        any_zero_1 = True\n",
        "        break\n",
        "else:\n",
        "    any_zero_1 = False\n",
        "\n",
        "any_zero_2 = any([item == 0 for item in nums])\n",
        "\n",
        "# 3. Все четные\n",
        "# Удалите комментарий и допишите код (определите переменные all_even_1, all_even_2)\n",
        "for item in nums:\n",
        "  if item % 2 != 0:\n",
        "    all_even_1 = False\n",
        "    break\n",
        "\n",
        "else:\n",
        "    all_even_1 = True\n",
        "\n",
        "all_even_2 = all([item % 2 == 0 for item in nums])\n",
        "\n",
        "# 4. Хотя бы 1 нечетный элемент\n",
        "# Удалите комментарий и допишите код (any_odd_1, any_odd_2)\n",
        "for item in nums:\n",
        "  if item % 2 != 0:\n",
        "    any_odd_1 = True\n",
        "    break\n",
        "\n",
        "else:\n",
        "    any_odd_1 = False\n",
        "\n",
        "any_odd_2 = any([item % 2 != 0 for item in nums])\n",
        "\n",
        "print(\"Все положительные:\", all_pos_1, all_pos_2)\n",
        "print(\"Хотя бы 1 нулевой элемент:\", any_zero_1, any_zero_2)\n",
        "print(\"Все четные:\", all_even_1, all_even_2)\n",
        "print(\"Хотя бы 1 нечетный элемент:\", any_odd_1, any_odd_2)\n",
        "\n",
        "# --------------\n",
        "# Пример вывода:\n",
        "#\n",
        "# -1 1 100 0\n",
        "# Все положительные: False False\n",
        "# Хотя бы 1 нулевой элемент: True True\n",
        "# Все четные: False False\n",
        "# Хотя бы 1 нечетный элемент: True True\n",
        "\n"
      ],
      "metadata": {
        "colab": {
          "base_uri": "https://localhost:8080/"
        },
        "id": "xrMbtQjPDL9P",
        "outputId": "094fb5ac-554e-4637-ac9f-7bc936611c47"
      },
      "execution_count": 16,
      "outputs": [
        {
          "output_type": "stream",
          "name": "stdout",
          "text": [
            "-1 1 100 0\n",
            "Все положительные: False False\n",
            "Хотя бы 1 нулевой элемент: True True\n",
            "Все четные: False False\n",
            "Хотя бы 1 нечетный элемент: True True\n"
          ]
        }
      ]
    },
    {
      "cell_type": "markdown",
      "source": [
        "# Программирование на языке высокого уровня (Python).\n",
        "# https://www.yuripetrov.ru/edu/python\n",
        "# Задание task_04_02_01.\n",
        "#\n",
        "# Выполнил: Вознесеснкая В.Е. \n",
        "# Группа: АДЭУ-221\n",
        "# E-mail: veroshe4k@gmail.com"
      ],
      "metadata": {
        "id": "0YSvUsCw9ih6"
      }
    },
    {
      "cell_type": "code",
      "source": [],
      "metadata": {
        "id": "ycBlAPdxHHEB"
      },
      "execution_count": null,
      "outputs": []
    },
    {
      "cell_type": "markdown",
      "source": [],
      "metadata": {
        "id": "pF8ehUXcHDzo"
      }
    }
  ]
}