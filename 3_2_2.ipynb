{
  "nbformat": 4,
  "nbformat_minor": 0,
  "metadata": {
    "colab": {
      "provenance": [],
      "collapsed_sections": [],
      "authorship_tag": "ABX9TyNib1FHCVW3L4vwb0hcmnzR",
      "include_colab_link": true
    },
    "kernelspec": {
      "name": "python3",
      "display_name": "Python 3"
    },
    "language_info": {
      "name": "python"
    }
  },
  "cells": [
    {
      "cell_type": "markdown",
      "metadata": {
        "id": "view-in-github",
        "colab_type": "text"
      },
      "source": [
        "<a href=\"https://colab.research.google.com/github/VoznesenskayaV/Osnovy_programming/blob/main/3_2_2.ipynb\" target=\"_parent\"><img src=\"https://colab.research.google.com/assets/colab-badge.svg\" alt=\"Open In Colab\"/></a>"
      ]
    },
    {
      "cell_type": "code",
      "execution_count": null,
      "metadata": {
        "id": "gNzQxJ01GNLX"
      },
      "outputs": [],
      "source": []
    },
    {
      "cell_type": "markdown",
      "source": [
        "№ 3.2.2\n",
        "\n",
        "Вычислите значение следующего выражения (аргументы - целые числа и вводятся с клавиатуры):\n",
        "\n",
        "f=x5+7|−6|⋅y−−−−−−√37−zmody\n",
        "Округлите результат до 3-х знаков после запятой, используя функцию round()."
      ],
      "metadata": {
        "id": "PzPOIsRy7PMl"
      }
    },
    {
      "cell_type": "code",
      "source": [
        "\n",
        "\n",
        "\n",
        "x = int(input(\"x=\"))\n",
        "y = int(input(\"y=\"))\n",
        "z = int(input(\"z=\"))\n",
        "\n",
        "res =((x**5+7)/abs(-6)/y)**(1/3)/(7-z%y)\n",
        "\n",
        "print(round(res,2))\n",
        "\n",
        "\n",
        "# --------------\n",
        "# Пример вывода:\n",
        "#\n",
        "# x=0\n",
        "# y=1\n",
        "# z=2\n",
        "# 0.15\n"
      ],
      "metadata": {
        "colab": {
          "base_uri": "https://localhost:8080/"
        },
        "id": "ebz9_yRpGP9v",
        "outputId": "93481ccc-f7c1-4594-fa1b-92f5388b0c47"
      },
      "execution_count": null,
      "outputs": [
        {
          "output_type": "stream",
          "name": "stdout",
          "text": [
            "x=0\n",
            "y=1\n",
            "z=2\n",
            "0.15\n"
          ]
        }
      ]
    },
    {
      "cell_type": "markdown",
      "source": [
        "# Программирование на языке высокого уровня (Python).\n",
        "# https://www.yuripetrov.ru/edu/python\n",
        "# Задание task_03_02_02.\n",
        "#\n",
        "# Выполнил: Вознесенская В.Е.\n",
        "# Группа: АДЭУ-221\n",
        "# E-mail: veroshe4k@gmail.com"
      ],
      "metadata": {
        "id": "z9ahpPBuGXKQ"
      }
    }
  ]
}