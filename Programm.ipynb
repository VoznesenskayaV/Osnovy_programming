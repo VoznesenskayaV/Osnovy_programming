{
  "nbformat": 4,
  "nbformat_minor": 0,
  "metadata": {
    "colab": {
      "provenance": [],
      "authorship_tag": "ABX9TyNULpPm1s3IjX2/2y7Sy6iH",
      "include_colab_link": true
    },
    "kernelspec": {
      "name": "python3",
      "display_name": "Python 3"
    },
    "language_info": {
      "name": "python"
    }
  },
  "cells": [
    {
      "cell_type": "markdown",
      "metadata": {
        "id": "view-in-github",
        "colab_type": "text"
      },
      "source": [
        "<a href=\"https://colab.research.google.com/github/VoznesenskayaV/Osnovy_programming/blob/main/Programm.ipynb\" target=\"_parent\"><img src=\"https://colab.research.google.com/assets/colab-badge.svg\" alt=\"Open In Colab\"/></a>"
      ]
    },
    {
      "cell_type": "code",
      "execution_count": 29,
      "metadata": {
        "colab": {
          "base_uri": "https://localhost:8080/"
        },
        "id": "93QIC4-rdmy_",
        "outputId": "a68e93c3-9465-4adc-c788-5b50ed7e1c02"
      },
      "outputs": [
        {
          "name": "stdout",
          "output_type": "stream",
          "text": [
            "Вводите элементы матрицы (начиная с a11, заканчивая a33): 5\n",
            "Вводите элементы матрицы (начиная с a11, заканчивая a33): 5\n",
            "Вводите элементы матрицы (начиная с a11, заканчивая a33): 0\n",
            "Вводите элементы матрицы (начиная с a11, заканчивая a33): 1\n",
            "Вводите элементы матрицы (начиная с a11, заканчивая a33): 4\n",
            "Вводите элементы матрицы (начиная с a11, заканчивая a33): 3\n",
            "Вводите элементы матрицы (начиная с a11, заканчивая a33): 2\n",
            "Вводите элементы матрицы (начиная с a11, заканчивая a33): 6\n",
            "Вводите элементы матрицы (начиная с a11, заканчивая a33): 4\n"
          ]
        }
      ],
      "source": [
        "\"\"\"A program for calculating the determinant of a matrix.\"\"\"\n",
        "\n",
        "a = []\n",
        "\n",
        "n = 9\n",
        "for i in range(n):\n",
        "  elements = int(input(\"Вводите элементы матрицы (начиная с a11, заканчивая a33): \"))\n",
        "  a.append(elements)\n",
        "    \n",
        "\n",
        "step1 = ((-1) ** 2) * a[0] * ((a[4] * a[8]) - (a[5] * a[7]))\n",
        "step2 = ((-1) ** 3) * a[1] * ((a[3] * a[8]) - (a[5] * a[6]))\n",
        "step3 = ((-1) ** 4) * a[2] * ((a[3] * a[7]) - (a[4] * a[6]))\n",
        "\n",
        "determinant = step1 + step2 + step3"
      ]
    },
    {
      "cell_type": "code",
      "source": [
        "print(\"Матрица: \")\n",
        "print(a[0], a[1], a[2])\n",
        "print(a[3], a[4], a[5])\n",
        "print(a[6], a[7], a[8])\n",
        "print(\"Определитель матрицы:\", determinant)"
      ],
      "metadata": {
        "colab": {
          "base_uri": "https://localhost:8080/"
        },
        "id": "nXON9alq1SRk",
        "outputId": "e7b5af50-7e88-4974-9e9e-dc20c901e386"
      },
      "execution_count": 31,
      "outputs": [
        {
          "output_type": "stream",
          "name": "stdout",
          "text": [
            "Матрица: \n",
            "5 5 0\n",
            "1 4 3\n",
            "2 6 4\n",
            "Определитель матрицы: 0\n"
          ]
        }
      ]
    }
  ]
}