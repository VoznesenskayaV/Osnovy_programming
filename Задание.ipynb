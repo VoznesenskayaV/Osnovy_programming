{
  "nbformat": 4,
  "nbformat_minor": 0,
  "metadata": {
    "colab": {
      "provenance": [],
      "authorship_tag": "ABX9TyPWC3A58SVqAu7Z8wTHojSg",
      "include_colab_link": true
    },
    "kernelspec": {
      "name": "python3",
      "display_name": "Python 3"
    },
    "language_info": {
      "name": "python"
    }
  },
  "cells": [
    {
      "cell_type": "markdown",
      "metadata": {
        "id": "view-in-github",
        "colab_type": "text"
      },
      "source": [
        "<a href=\"https://colab.research.google.com/github/VoznesenskayaV/Osnovy_programming/blob/main/%D0%97%D0%B0%D0%B4%D0%B0%D0%BD%D0%B8%D0%B5.ipynb\" target=\"_parent\"><img src=\"https://colab.research.google.com/assets/colab-badge.svg\" alt=\"Open In Colab\"/></a>"
      ]
    },
    {
      "cell_type": "code",
      "execution_count": 1,
      "metadata": {
        "id": "dXlFZuhrUnp9",
        "colab": {
          "base_uri": "https://localhost:8080/"
        },
        "outputId": "89823a0f-22e2-4d7a-bd82-a4ef0bb6cf98"
      },
      "outputs": [
        {
          "name": "stdout",
          "output_type": "stream",
          "text": [
            "harry_potter.txt\n"
          ]
        }
      ],
      "source": [
        "name = input()\n",
        "file = open(name, 'r')\n",
        "file_nm = open('file_nm.txt', 'w')\n",
        "file_all = open('file_all.txt', 'w')\n",
        "for i in file:\n",
        "    str_nm = ''\n",
        "    str_all = ''\n",
        "    for j in i:\n",
        "        if j.isdigit():\n",
        "            str_nm += j\n",
        "        else:\n",
        "            str_all += j\n",
        "    file_nm.write(str_nm)\n",
        "    file_all.write(str_all)\n",
        "file_nm.close()\n",
        "file_all.close()\n",
        "file.close()"
      ]
    }
  ]
}